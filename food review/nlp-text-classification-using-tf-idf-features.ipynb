{
 "cells": [
  {
   "cell_type": "markdown",
   "metadata": {
    "_cell_guid": "79c7e3d0-c299-4dcb-8224-4455121ee9b0",
    "_uuid": "d629ff2d2480ee46fbb7e2d37f6b5fab8052498a",
    "papermill": {
     "duration": 0.017785,
     "end_time": "2022-05-30T18:33:32.518661",
     "exception": false,
     "start_time": "2022-05-30T18:33:32.500876",
     "status": "completed"
    },
    "tags": []
   },
   "source": [
    "# Problem statement\n",
    "\n",
    "The aim is to develop an algorithm to predict whether a tweet is about a real disaster or not."
   ]
  },
  {
   "cell_type": "code",
   "execution_count": 1,
   "metadata": {
    "execution": {
     "iopub.execute_input": "2022-05-30T18:33:32.561834Z",
     "iopub.status.busy": "2022-05-30T18:33:32.561045Z",
     "iopub.status.idle": "2022-05-30T18:33:34.319853Z",
     "shell.execute_reply": "2022-05-30T18:33:34.319192Z",
     "shell.execute_reply.started": "2022-05-11T05:52:37.748787Z"
    },
    "papermill": {
     "duration": 1.78388,
     "end_time": "2022-05-30T18:33:34.319983",
     "exception": false,
     "start_time": "2022-05-30T18:33:32.536103",
     "status": "completed"
    },
    "tags": []
   },
   "outputs": [],
   "source": [
    "import numpy as np\n",
    "import pandas as pd\n",
    "from tqdm import tqdm\n",
    "\n",
    "import re\n",
    "import string\n",
    "\n",
    "import nltk\n",
    "from nltk.corpus import stopwords\n",
    "from nltk.stem import WordNetLemmatizer  \n",
    "\n",
    "from sklearn.model_selection import train_test_split\n",
    "from sklearn.metrics import confusion_matrix,classification_report\n",
    "from sklearn.feature_extraction.text import CountVectorizer, TfidfVectorizer\n",
    "from sklearn.ensemble import RandomForestClassifier\n",
    "from sklearn.metrics import confusion_matrix,classification_report\n",
    "\n",
    "import matplotlib.pyplot as plt\n",
    "import seaborn as sns"
   ]
  },
  {
   "cell_type": "code",
   "execution_count": 2,
   "metadata": {
    "execution": {
     "iopub.execute_input": "2022-05-30T18:33:34.357148Z",
     "iopub.status.busy": "2022-05-30T18:33:34.356514Z",
     "iopub.status.idle": "2022-05-30T18:33:34.442100Z",
     "shell.execute_reply": "2022-05-30T18:33:34.442592Z",
     "shell.execute_reply.started": "2022-05-11T05:52:39.858049Z"
    },
    "papermill": {
     "duration": 0.105661,
     "end_time": "2022-05-30T18:33:34.442749",
     "exception": false,
     "start_time": "2022-05-30T18:33:34.337088",
     "status": "completed"
    },
    "tags": []
   },
   "outputs": [
    {
     "data": {
      "text/html": [
       "<div>\n",
       "<style scoped>\n",
       "    .dataframe tbody tr th:only-of-type {\n",
       "        vertical-align: middle;\n",
       "    }\n",
       "\n",
       "    .dataframe tbody tr th {\n",
       "        vertical-align: top;\n",
       "    }\n",
       "\n",
       "    .dataframe thead th {\n",
       "        text-align: right;\n",
       "    }\n",
       "</style>\n",
       "<table border=\"1\" class=\"dataframe\">\n",
       "  <thead>\n",
       "    <tr style=\"text-align: right;\">\n",
       "      <th></th>\n",
       "      <th>Review</th>\n",
       "      <th>Type</th>\n",
       "    </tr>\n",
       "  </thead>\n",
       "  <tbody>\n",
       "    <tr>\n",
       "      <th>0</th>\n",
       "      <td>মা মেয়ের একটি সকাল.আড্ডা আর মজার নাস্তা.আজ আম...</td>\n",
       "      <td>very good</td>\n",
       "    </tr>\n",
       "    <tr>\n",
       "      <th>1</th>\n",
       "      <td>আমি ফুডপান্ডায় অর্ডার দিলাম এবং খাবার দেখে আম...</td>\n",
       "      <td>bad</td>\n",
       "    </tr>\n",
       "    <tr>\n",
       "      <th>2</th>\n",
       "      <td>বৃষ্টির দিনে স্ট্রিটফুড খেতে কার না ভালো লাগে ...</td>\n",
       "      <td>very good</td>\n",
       "    </tr>\n",
       "    <tr>\n",
       "      <th>3</th>\n",
       "      <td>আজকে এই প্রথমবার জিনজিরা ফেরিঘাট থেকে আসার পথে...</td>\n",
       "      <td>very good</td>\n",
       "    </tr>\n",
       "    <tr>\n",
       "      <th>4</th>\n",
       "      <td>পছন্দের রেস্টুরেন্ট এর মধ্যে একটা হলো Chicken...</td>\n",
       "      <td>very good</td>\n",
       "    </tr>\n",
       "  </tbody>\n",
       "</table>\n",
       "</div>"
      ],
      "text/plain": [
       "                                              Review       Type\n",
       "0  মা মেয়ের একটি সকাল.আড্ডা আর মজার নাস্তা.আজ আম...  very good\n",
       "1  আমি ফুডপান্ডায় অর্ডার দিলাম এবং খাবার দেখে আম...        bad\n",
       "2  বৃষ্টির দিনে স্ট্রিটফুড খেতে কার না ভালো লাগে ...  very good\n",
       "3  আজকে এই প্রথমবার জিনজিরা ফেরিঘাট থেকে আসার পথে...  very good\n",
       "4   পছন্দের রেস্টুরেন্ট এর মধ্যে একটা হলো Chicken...  very good"
      ]
     },
     "execution_count": 2,
     "metadata": {},
     "output_type": "execute_result"
    }
   ],
   "source": [
    "df = pd.read_csv('train.csv')\n",
    "df.head()"
   ]
  },
  {
   "cell_type": "code",
   "execution_count": 3,
   "metadata": {},
   "outputs": [
    {
     "data": {
      "text/html": [
       "<div>\n",
       "<style scoped>\n",
       "    .dataframe tbody tr th:only-of-type {\n",
       "        vertical-align: middle;\n",
       "    }\n",
       "\n",
       "    .dataframe tbody tr th {\n",
       "        vertical-align: top;\n",
       "    }\n",
       "\n",
       "    .dataframe thead th {\n",
       "        text-align: right;\n",
       "    }\n",
       "</style>\n",
       "<table border=\"1\" class=\"dataframe\">\n",
       "  <thead>\n",
       "    <tr style=\"text-align: right;\">\n",
       "      <th></th>\n",
       "      <th>Review</th>\n",
       "      <th>Type</th>\n",
       "    </tr>\n",
       "  </thead>\n",
       "  <tbody>\n",
       "    <tr>\n",
       "      <th>0</th>\n",
       "      <td>মা মেয়ের একটি সকাল.আড্ডা আর মজার নাস্তা.আজ আম...</td>\n",
       "      <td>2</td>\n",
       "    </tr>\n",
       "    <tr>\n",
       "      <th>1</th>\n",
       "      <td>আমি ফুডপান্ডায় অর্ডার দিলাম এবং খাবার দেখে আম...</td>\n",
       "      <td>0</td>\n",
       "    </tr>\n",
       "    <tr>\n",
       "      <th>2</th>\n",
       "      <td>বৃষ্টির দিনে স্ট্রিটফুড খেতে কার না ভালো লাগে ...</td>\n",
       "      <td>2</td>\n",
       "    </tr>\n",
       "    <tr>\n",
       "      <th>3</th>\n",
       "      <td>আজকে এই প্রথমবার জিনজিরা ফেরিঘাট থেকে আসার পথে...</td>\n",
       "      <td>2</td>\n",
       "    </tr>\n",
       "    <tr>\n",
       "      <th>4</th>\n",
       "      <td>পছন্দের রেস্টুরেন্ট এর মধ্যে একটা হলো Chicken...</td>\n",
       "      <td>2</td>\n",
       "    </tr>\n",
       "    <tr>\n",
       "      <th>...</th>\n",
       "      <td>...</td>\n",
       "      <td>...</td>\n",
       "    </tr>\n",
       "    <tr>\n",
       "      <th>109</th>\n",
       "      <td>মেইন কোর্সে ছিলো খিচুড়ি, খাসির বিরিয়ানি, বীফ র...</td>\n",
       "      <td>1</td>\n",
       "    </tr>\n",
       "    <tr>\n",
       "      <th>110</th>\n",
       "      <td>বেশ অনেকদিন থেকেই যাওয়ার ইচ্ছা ছিলো। এট লাস্ট ...</td>\n",
       "      <td>1</td>\n",
       "    </tr>\n",
       "    <tr>\n",
       "      <th>111</th>\n",
       "      <td>রিফিলের অবস্থা খুবই বাজে।ব্যুফের সময় ১:০০ টা ব...</td>\n",
       "      <td>0</td>\n",
       "    </tr>\n",
       "    <tr>\n",
       "      <th>112</th>\n",
       "      <td>The Pan Pacific Lounge এ গতকাল একটি নেগেটিভ রি...</td>\n",
       "      <td>0</td>\n",
       "    </tr>\n",
       "    <tr>\n",
       "      <th>113</th>\n",
       "      <td>এই গ্রুপেই একটা রিভিউ দেখে আজকে বুফে খেতে গেলা...</td>\n",
       "      <td>2</td>\n",
       "    </tr>\n",
       "  </tbody>\n",
       "</table>\n",
       "<p>114 rows × 2 columns</p>\n",
       "</div>"
      ],
      "text/plain": [
       "                                                Review  Type\n",
       "0    মা মেয়ের একটি সকাল.আড্ডা আর মজার নাস্তা.আজ আম...     2\n",
       "1    আমি ফুডপান্ডায় অর্ডার দিলাম এবং খাবার দেখে আম...     0\n",
       "2    বৃষ্টির দিনে স্ট্রিটফুড খেতে কার না ভালো লাগে ...     2\n",
       "3    আজকে এই প্রথমবার জিনজিরা ফেরিঘাট থেকে আসার পথে...     2\n",
       "4     পছন্দের রেস্টুরেন্ট এর মধ্যে একটা হলো Chicken...     2\n",
       "..                                                 ...   ...\n",
       "109  মেইন কোর্সে ছিলো খিচুড়ি, খাসির বিরিয়ানি, বীফ র...     1\n",
       "110  বেশ অনেকদিন থেকেই যাওয়ার ইচ্ছা ছিলো। এট লাস্ট ...     1\n",
       "111  রিফিলের অবস্থা খুবই বাজে।ব্যুফের সময় ১:০০ টা ব...     0\n",
       "112  The Pan Pacific Lounge এ গতকাল একটি নেগেটিভ রি...     0\n",
       "113  এই গ্রুপেই একটা রিভিউ দেখে আজকে বুফে খেতে গেলা...     2\n",
       "\n",
       "[114 rows x 2 columns]"
      ]
     },
     "execution_count": 3,
     "metadata": {},
     "output_type": "execute_result"
    }
   ],
   "source": [
    "mapping = {'bad': 0, 'good': 1, 'very good': 2}\n",
    "df['Type'] = df['Type'].map(mapping)\n",
    "df"
   ]
  },
  {
   "cell_type": "code",
   "execution_count": 7,
   "metadata": {
    "execution": {
     "iopub.execute_input": "2022-05-30T18:33:34.484037Z",
     "iopub.status.busy": "2022-05-30T18:33:34.483351Z",
     "iopub.status.idle": "2022-05-30T18:33:34.625361Z",
     "shell.execute_reply": "2022-05-30T18:33:34.625860Z",
     "shell.execute_reply.started": "2022-05-11T05:52:39.935125Z"
    },
    "papermill": {
     "duration": 0.165744,
     "end_time": "2022-05-30T18:33:34.626015",
     "exception": false,
     "start_time": "2022-05-30T18:33:34.460271",
     "status": "completed"
    },
    "tags": []
   },
   "outputs": [
    {
     "name": "stderr",
     "output_type": "stream",
     "text": [
      "C:\\Users\\pirat\\anaconda3\\Lib\\site-packages\\IPython\\core\\events.py:89: UserWarning: Glyph 2478 (\\N{BENGALI LETTER MA}) missing from current font.\n",
      "  func(*args, **kwargs)\n",
      "C:\\Users\\pirat\\anaconda3\\Lib\\site-packages\\IPython\\core\\events.py:89: UserWarning: Matplotlib currently does not support Bengali natively.\n",
      "  func(*args, **kwargs)\n",
      "C:\\Users\\pirat\\anaconda3\\Lib\\site-packages\\IPython\\core\\events.py:89: UserWarning: Glyph 2494 (\\N{BENGALI VOWEL SIGN AA}) missing from current font.\n",
      "  func(*args, **kwargs)\n",
      "C:\\Users\\pirat\\anaconda3\\Lib\\site-packages\\IPython\\core\\events.py:89: UserWarning: Glyph 2503 (\\N{BENGALI VOWEL SIGN E}) missing from current font.\n",
      "  func(*args, **kwargs)\n",
      "C:\\Users\\pirat\\anaconda3\\Lib\\site-packages\\IPython\\core\\events.py:89: UserWarning: Glyph 2479 (\\N{BENGALI LETTER YA}) missing from current font.\n",
      "  func(*args, **kwargs)\n",
      "C:\\Users\\pirat\\anaconda3\\Lib\\site-packages\\IPython\\core\\events.py:89: UserWarning: Glyph 2492 (\\N{BENGALI SIGN NUKTA}) missing from current font.\n",
      "  func(*args, **kwargs)\n",
      "C:\\Users\\pirat\\anaconda3\\Lib\\site-packages\\IPython\\core\\events.py:89: UserWarning: Glyph 2480 (\\N{BENGALI LETTER RA}) missing from current font.\n",
      "  func(*args, **kwargs)\n",
      "C:\\Users\\pirat\\anaconda3\\Lib\\site-packages\\IPython\\core\\events.py:89: UserWarning: Glyph 2447 (\\N{BENGALI LETTER E}) missing from current font.\n",
      "  func(*args, **kwargs)\n",
      "C:\\Users\\pirat\\anaconda3\\Lib\\site-packages\\IPython\\core\\events.py:89: UserWarning: Glyph 2453 (\\N{BENGALI LETTER KA}) missing from current font.\n",
      "  func(*args, **kwargs)\n",
      "C:\\Users\\pirat\\anaconda3\\Lib\\site-packages\\IPython\\core\\events.py:89: UserWarning: Glyph 2463 (\\N{BENGALI LETTER TTA}) missing from current font.\n",
      "  func(*args, **kwargs)\n",
      "C:\\Users\\pirat\\anaconda3\\Lib\\site-packages\\IPython\\core\\events.py:89: UserWarning: Glyph 2495 (\\N{BENGALI VOWEL SIGN I}) missing from current font.\n",
      "  func(*args, **kwargs)\n",
      "C:\\Users\\pirat\\anaconda3\\Lib\\site-packages\\IPython\\core\\events.py:89: UserWarning: Glyph 2488 (\\N{BENGALI LETTER SA}) missing from current font.\n",
      "  func(*args, **kwargs)\n",
      "C:\\Users\\pirat\\anaconda3\\Lib\\site-packages\\IPython\\core\\events.py:89: UserWarning: Glyph 2482 (\\N{BENGALI LETTER LA}) missing from current font.\n",
      "  func(*args, **kwargs)\n",
      "C:\\Users\\pirat\\anaconda3\\Lib\\site-packages\\IPython\\core\\events.py:89: UserWarning: Glyph 2438 (\\N{BENGALI LETTER AA}) missing from current font.\n",
      "  func(*args, **kwargs)\n",
      "C:\\Users\\pirat\\anaconda3\\Lib\\site-packages\\IPython\\core\\events.py:89: UserWarning: Glyph 2465 (\\N{BENGALI LETTER DDA}) missing from current font.\n",
      "  func(*args, **kwargs)\n",
      "C:\\Users\\pirat\\anaconda3\\Lib\\site-packages\\IPython\\core\\events.py:89: UserWarning: Glyph 2509 (\\N{BENGALI SIGN VIRAMA}) missing from current font.\n",
      "  func(*args, **kwargs)\n",
      "C:\\Users\\pirat\\anaconda3\\Lib\\site-packages\\IPython\\core\\events.py:89: UserWarning: Glyph 2460 (\\N{BENGALI LETTER JA}) missing from current font.\n",
      "  func(*args, **kwargs)\n",
      "C:\\Users\\pirat\\anaconda3\\Lib\\site-packages\\IPython\\core\\events.py:89: UserWarning: Glyph 2472 (\\N{BENGALI LETTER NA}) missing from current font.\n",
      "  func(*args, **kwargs)\n",
      "C:\\Users\\pirat\\anaconda3\\Lib\\site-packages\\IPython\\core\\events.py:89: UserWarning: Glyph 2468 (\\N{BENGALI LETTER TA}) missing from current font.\n",
      "  func(*args, **kwargs)\n",
      "C:\\Users\\pirat\\anaconda3\\Lib\\site-packages\\IPython\\core\\events.py:89: UserWarning: Glyph 2455 (\\N{BENGALI LETTER GA}) missing from current font.\n",
      "  func(*args, **kwargs)\n",
      "C:\\Users\\pirat\\anaconda3\\Lib\\site-packages\\IPython\\core\\events.py:89: UserWarning: Glyph 2459 (\\N{BENGALI LETTER CHA}) missing from current font.\n",
      "  func(*args, **kwargs)\n",
      "C:\\Users\\pirat\\anaconda3\\Lib\\site-packages\\IPython\\core\\events.py:89: UserWarning: Glyph 2476 (\\N{BENGALI LETTER BA}) missing from current font.\n",
      "  func(*args, **kwargs)\n",
      "C:\\Users\\pirat\\anaconda3\\Lib\\site-packages\\IPython\\core\\events.py:89: UserWarning: Glyph 2470 (\\N{BENGALI LETTER DA}) missing from current font.\n",
      "  func(*args, **kwargs)\n",
      "C:\\Users\\pirat\\anaconda3\\Lib\\site-packages\\IPython\\core\\events.py:89: UserWarning: Glyph 2454 (\\N{BENGALI LETTER KHA}) missing from current font.\n",
      "  func(*args, **kwargs)\n",
      "C:\\Users\\pirat\\anaconda3\\Lib\\site-packages\\IPython\\core\\events.py:89: UserWarning: Glyph 2404 (\\N{DEVANAGARI DANDA}) missing from current font.\n",
      "  func(*args, **kwargs)\n",
      "C:\\Users\\pirat\\anaconda3\\Lib\\site-packages\\IPython\\core\\events.py:89: UserWarning: Matplotlib currently does not support Devanagari natively.\n",
      "  func(*args, **kwargs)\n",
      "C:\\Users\\pirat\\anaconda3\\Lib\\site-packages\\IPython\\core\\events.py:89: UserWarning: Glyph 2486 (\\N{BENGALI LETTER SHA}) missing from current font.\n",
      "  func(*args, **kwargs)\n",
      "C:\\Users\\pirat\\anaconda3\\Lib\\site-packages\\IPython\\core\\events.py:89: UserWarning: Glyph 2477 (\\N{BENGALI LETTER BHA}) missing from current font.\n",
      "  func(*args, **kwargs)\n",
      "C:\\Users\\pirat\\anaconda3\\Lib\\site-packages\\IPython\\core\\events.py:89: UserWarning: Glyph 2507 (\\N{BENGALI VOWEL SIGN O}) missing from current font.\n",
      "  func(*args, **kwargs)\n",
      "C:\\Users\\pirat\\anaconda3\\Lib\\site-packages\\IPython\\core\\events.py:89: UserWarning: Glyph 2474 (\\N{BENGALI LETTER PA}) missing from current font.\n",
      "  func(*args, **kwargs)\n",
      "C:\\Users\\pirat\\anaconda3\\Lib\\site-packages\\IPython\\core\\events.py:89: UserWarning: Glyph 2497 (\\N{BENGALI VOWEL SIGN U}) missing from current font.\n",
      "  func(*args, **kwargs)\n",
      "C:\\Users\\pirat\\anaconda3\\Lib\\site-packages\\IPython\\core\\events.py:89: UserWarning: Glyph 2496 (\\N{BENGALI VOWEL SIGN II}) missing from current font.\n",
      "  func(*args, **kwargs)\n",
      "C:\\Users\\pirat\\anaconda3\\Lib\\site-packages\\IPython\\core\\events.py:89: UserWarning: Glyph 2451 (\\N{BENGALI LETTER O}) missing from current font.\n",
      "  func(*args, **kwargs)\n",
      "C:\\Users\\pirat\\anaconda3\\Lib\\site-packages\\IPython\\core\\events.py:89: UserWarning: Glyph 2456 (\\N{BENGALI LETTER GHA}) missing from current font.\n",
      "  func(*args, **kwargs)\n",
      "C:\\Users\\pirat\\anaconda3\\Lib\\site-packages\\IPython\\core\\events.py:89: UserWarning: Glyph 2475 (\\N{BENGALI LETTER PHA}) missing from current font.\n",
      "  func(*args, **kwargs)\n",
      "C:\\Users\\pirat\\anaconda3\\Lib\\site-packages\\IPython\\core\\events.py:89: UserWarning: Glyph 2489 (\\N{BENGALI LETTER HA}) missing from current font.\n",
      "  func(*args, **kwargs)\n",
      "C:\\Users\\pirat\\anaconda3\\Lib\\site-packages\\IPython\\core\\events.py:89: UserWarning: Glyph 2469 (\\N{BENGALI LETTER THA}) missing from current font.\n",
      "  func(*args, **kwargs)\n",
      "C:\\Users\\pirat\\anaconda3\\Lib\\site-packages\\IPython\\core\\events.py:89: UserWarning: Glyph 2471 (\\N{BENGALI LETTER DHA}) missing from current font.\n",
      "  func(*args, **kwargs)\n",
      "C:\\Users\\pirat\\anaconda3\\Lib\\site-packages\\IPython\\core\\events.py:89: UserWarning: Glyph 2437 (\\N{BENGALI LETTER A}) missing from current font.\n",
      "  func(*args, **kwargs)\n",
      "C:\\Users\\pirat\\anaconda3\\Lib\\site-packages\\IPython\\core\\events.py:89: UserWarning: Glyph 2434 (\\N{BENGALI SIGN ANUSVARA}) missing from current font.\n",
      "  func(*args, **kwargs)\n",
      "C:\\Users\\pirat\\anaconda3\\Lib\\site-packages\\IPython\\core\\events.py:89: UserWarning: Glyph 2441 (\\N{BENGALI LETTER U}) missing from current font.\n",
      "  func(*args, **kwargs)\n",
      "C:\\Users\\pirat\\anaconda3\\Lib\\site-packages\\IPython\\core\\events.py:89: UserWarning: Glyph 2464 (\\N{BENGALI LETTER TTHA}) missing from current font.\n",
      "  func(*args, **kwargs)\n",
      "C:\\Users\\pirat\\anaconda3\\Lib\\site-packages\\IPython\\core\\events.py:89: UserWarning: Glyph 2439 (\\N{BENGALI LETTER I}) missing from current font.\n",
      "  func(*args, **kwargs)\n",
      "C:\\Users\\pirat\\anaconda3\\Lib\\site-packages\\IPython\\core\\events.py:89: UserWarning: Glyph 2457 (\\N{BENGALI LETTER NGA}) missing from current font.\n",
      "  func(*args, **kwargs)\n",
      "C:\\Users\\pirat\\anaconda3\\Lib\\site-packages\\IPython\\core\\events.py:89: UserWarning: Glyph 2467 (\\N{BENGALI LETTER NNA}) missing from current font.\n",
      "  func(*args, **kwargs)\n",
      "C:\\Users\\pirat\\anaconda3\\Lib\\site-packages\\IPython\\core\\events.py:89: UserWarning: Glyph 2498 (\\N{BENGALI VOWEL SIGN UU}) missing from current font.\n",
      "  func(*args, **kwargs)\n",
      "C:\\Users\\pirat\\anaconda3\\Lib\\site-packages\\IPython\\core\\events.py:89: UserWarning: Glyph 2499 (\\N{BENGALI VOWEL SIGN VOCALIC R}) missing from current font.\n",
      "  func(*args, **kwargs)\n",
      "C:\\Users\\pirat\\anaconda3\\Lib\\site-packages\\IPython\\core\\events.py:89: UserWarning: Glyph 2487 (\\N{BENGALI LETTER SSA}) missing from current font.\n",
      "  func(*args, **kwargs)\n",
      "C:\\Users\\pirat\\anaconda3\\Lib\\site-packages\\IPython\\core\\events.py:89: UserWarning: Glyph 2458 (\\N{BENGALI LETTER CA}) missing from current font.\n",
      "  func(*args, **kwargs)\n",
      "C:\\Users\\pirat\\anaconda3\\Lib\\site-packages\\IPython\\core\\events.py:89: UserWarning: Glyph 2504 (\\N{BENGALI VOWEL SIGN AI}) missing from current font.\n",
      "  func(*args, **kwargs)\n",
      "C:\\Users\\pirat\\anaconda3\\Lib\\site-packages\\IPython\\core\\events.py:89: UserWarning: Glyph 2462 (\\N{BENGALI LETTER NYA}) missing from current font.\n",
      "  func(*args, **kwargs)\n",
      "C:\\Users\\pirat\\anaconda3\\Lib\\site-packages\\IPython\\core\\events.py:89: UserWarning: Glyph 2508 (\\N{BENGALI VOWEL SIGN AU}) missing from current font.\n",
      "  func(*args, **kwargs)\n",
      "C:\\Users\\pirat\\anaconda3\\Lib\\site-packages\\IPython\\core\\events.py:89: UserWarning: Glyph 2466 (\\N{BENGALI LETTER DDHA}) missing from current font.\n",
      "  func(*args, **kwargs)\n",
      "C:\\Users\\pirat\\anaconda3\\Lib\\site-packages\\IPython\\core\\events.py:89: UserWarning: Glyph 2535 (\\N{BENGALI DIGIT ONE}) missing from current font.\n",
      "  func(*args, **kwargs)\n",
      "C:\\Users\\pirat\\anaconda3\\Lib\\site-packages\\IPython\\core\\events.py:89: UserWarning: Glyph 2537 (\\N{BENGALI DIGIT THREE}) missing from current font.\n",
      "  func(*args, **kwargs)\n",
      "C:\\Users\\pirat\\anaconda3\\Lib\\site-packages\\IPython\\core\\events.py:89: UserWarning: Glyph 2534 (\\N{BENGALI DIGIT ZERO}) missing from current font.\n",
      "  func(*args, **kwargs)\n",
      "C:\\Users\\pirat\\anaconda3\\Lib\\site-packages\\IPython\\core\\events.py:89: UserWarning: Glyph 2536 (\\N{BENGALI DIGIT TWO}) missing from current font.\n",
      "  func(*args, **kwargs)\n",
      "C:\\Users\\pirat\\anaconda3\\Lib\\site-packages\\IPython\\core\\events.py:89: UserWarning: Glyph 2541 (\\N{BENGALI DIGIT SEVEN}) missing from current font.\n",
      "  func(*args, **kwargs)\n",
      "C:\\Users\\pirat\\anaconda3\\Lib\\site-packages\\IPython\\core\\events.py:89: UserWarning: Glyph 2527 (\\N{BENGALI LETTER YYA}) missing from current font.\n",
      "  func(*args, **kwargs)\n",
      "C:\\Users\\pirat\\anaconda3\\Lib\\site-packages\\IPython\\core\\events.py:89: UserWarning: Glyph 2543 (\\N{BENGALI DIGIT NINE}) missing from current font.\n",
      "  func(*args, **kwargs)\n",
      "C:\\Users\\pirat\\anaconda3\\Lib\\site-packages\\IPython\\core\\events.py:89: UserWarning: Glyph 2547 (\\N{BENGALI RUPEE SIGN}) missing from current font.\n",
      "  func(*args, **kwargs)\n",
      "C:\\Users\\pirat\\anaconda3\\Lib\\site-packages\\IPython\\core\\events.py:89: UserWarning: Glyph 2433 (\\N{BENGALI SIGN CANDRABINDU}) missing from current font.\n",
      "  func(*args, **kwargs)\n",
      "C:\\Users\\pirat\\anaconda3\\Lib\\site-packages\\IPython\\core\\events.py:89: UserWarning: Glyph 129300 (\\N{THINKING FACE}) missing from current font.\n",
      "  func(*args, **kwargs)\n",
      "C:\\Users\\pirat\\anaconda3\\Lib\\site-packages\\IPython\\core\\events.py:89: UserWarning: Glyph 2435 (\\N{BENGALI SIGN VISARGA}) missing from current font.\n",
      "  func(*args, **kwargs)\n",
      "C:\\Users\\pirat\\anaconda3\\Lib\\site-packages\\IPython\\core\\events.py:89: UserWarning: Glyph 2524 (\\N{BENGALI LETTER RRA}) missing from current font.\n",
      "  func(*args, **kwargs)\n"
     ]
    },
    {
     "name": "stderr",
     "output_type": "stream",
     "text": [
      "C:\\Users\\pirat\\anaconda3\\Lib\\site-packages\\IPython\\core\\events.py:89: UserWarning: Glyph 2538 (\\N{BENGALI DIGIT FOUR}) missing from current font.\n",
      "  func(*args, **kwargs)\n",
      "C:\\Users\\pirat\\anaconda3\\Lib\\site-packages\\IPython\\core\\events.py:89: UserWarning: Glyph 2542 (\\N{BENGALI DIGIT EIGHT}) missing from current font.\n",
      "  func(*args, **kwargs)\n",
      "C:\\Users\\pirat\\anaconda3\\Lib\\site-packages\\IPython\\core\\events.py:89: UserWarning: Glyph 10024 (\\N{SPARKLES}) missing from current font.\n",
      "  func(*args, **kwargs)\n",
      "C:\\Users\\pirat\\anaconda3\\Lib\\site-packages\\IPython\\core\\events.py:89: UserWarning: Glyph 2461 (\\N{BENGALI LETTER JHA}) missing from current font.\n",
      "  func(*args, **kwargs)\n",
      "C:\\Users\\pirat\\anaconda3\\Lib\\site-packages\\IPython\\core\\events.py:89: UserWarning: Glyph 129316 (\\N{DROOLING FACE}) missing from current font.\n",
      "  func(*args, **kwargs)\n",
      "C:\\Users\\pirat\\anaconda3\\Lib\\site-packages\\IPython\\core\\events.py:89: UserWarning: Glyph 2551 (\\N{BENGALI CURRENCY NUMERATOR FOUR}) missing from current font.\n",
      "  func(*args, **kwargs)\n",
      "C:\\Users\\pirat\\anaconda3\\Lib\\site-packages\\IPython\\core\\events.py:89: UserWarning: Glyph 2539 (\\N{BENGALI DIGIT FIVE}) missing from current font.\n",
      "  func(*args, **kwargs)\n",
      "C:\\Users\\pirat\\anaconda3\\Lib\\site-packages\\IPython\\core\\events.py:89: UserWarning: Glyph 2510 (\\N{BENGALI LETTER KHANDA TA}) missing from current font.\n",
      "  func(*args, **kwargs)\n",
      "C:\\Users\\pirat\\anaconda3\\Lib\\site-packages\\IPython\\core\\events.py:89: UserWarning: Glyph 2540 (\\N{BENGALI DIGIT SIX}) missing from current font.\n",
      "  func(*args, **kwargs)\n",
      "C:\\Users\\pirat\\anaconda3\\Lib\\site-packages\\IPython\\core\\events.py:89: UserWarning: Glyph 128071 (\\N{WHITE DOWN POINTING BACKHAND INDEX}) missing from current font.\n",
      "  func(*args, **kwargs)\n",
      "C:\\Users\\pirat\\anaconda3\\Lib\\site-packages\\IPython\\core\\events.py:89: UserWarning: Glyph 2448 (\\N{BENGALI LETTER AI}) missing from current font.\n",
      "  func(*args, **kwargs)\n",
      "C:\\Users\\pirat\\anaconda3\\Lib\\site-packages\\IPython\\core\\pylabtools.py:152: UserWarning: Glyph 2478 (\\N{BENGALI LETTER MA}) missing from current font.\n",
      "  fig.canvas.print_figure(bytes_io, **kw)\n",
      "C:\\Users\\pirat\\anaconda3\\Lib\\site-packages\\IPython\\core\\pylabtools.py:152: UserWarning: Matplotlib currently does not support Bengali natively.\n",
      "  fig.canvas.print_figure(bytes_io, **kw)\n",
      "C:\\Users\\pirat\\anaconda3\\Lib\\site-packages\\IPython\\core\\pylabtools.py:152: UserWarning: Glyph 2494 (\\N{BENGALI VOWEL SIGN AA}) missing from current font.\n",
      "  fig.canvas.print_figure(bytes_io, **kw)\n",
      "C:\\Users\\pirat\\anaconda3\\Lib\\site-packages\\IPython\\core\\pylabtools.py:152: UserWarning: Glyph 2503 (\\N{BENGALI VOWEL SIGN E}) missing from current font.\n",
      "  fig.canvas.print_figure(bytes_io, **kw)\n",
      "C:\\Users\\pirat\\anaconda3\\Lib\\site-packages\\IPython\\core\\pylabtools.py:152: UserWarning: Glyph 2479 (\\N{BENGALI LETTER YA}) missing from current font.\n",
      "  fig.canvas.print_figure(bytes_io, **kw)\n",
      "C:\\Users\\pirat\\anaconda3\\Lib\\site-packages\\IPython\\core\\pylabtools.py:152: UserWarning: Glyph 2492 (\\N{BENGALI SIGN NUKTA}) missing from current font.\n",
      "  fig.canvas.print_figure(bytes_io, **kw)\n",
      "C:\\Users\\pirat\\anaconda3\\Lib\\site-packages\\IPython\\core\\pylabtools.py:152: UserWarning: Glyph 2480 (\\N{BENGALI LETTER RA}) missing from current font.\n",
      "  fig.canvas.print_figure(bytes_io, **kw)\n",
      "C:\\Users\\pirat\\anaconda3\\Lib\\site-packages\\IPython\\core\\pylabtools.py:152: UserWarning: Glyph 2447 (\\N{BENGALI LETTER E}) missing from current font.\n",
      "  fig.canvas.print_figure(bytes_io, **kw)\n",
      "C:\\Users\\pirat\\anaconda3\\Lib\\site-packages\\IPython\\core\\pylabtools.py:152: UserWarning: Glyph 2453 (\\N{BENGALI LETTER KA}) missing from current font.\n",
      "  fig.canvas.print_figure(bytes_io, **kw)\n",
      "C:\\Users\\pirat\\anaconda3\\Lib\\site-packages\\IPython\\core\\pylabtools.py:152: UserWarning: Glyph 2463 (\\N{BENGALI LETTER TTA}) missing from current font.\n",
      "  fig.canvas.print_figure(bytes_io, **kw)\n",
      "C:\\Users\\pirat\\anaconda3\\Lib\\site-packages\\IPython\\core\\pylabtools.py:152: UserWarning: Glyph 2495 (\\N{BENGALI VOWEL SIGN I}) missing from current font.\n",
      "  fig.canvas.print_figure(bytes_io, **kw)\n",
      "C:\\Users\\pirat\\anaconda3\\Lib\\site-packages\\IPython\\core\\pylabtools.py:152: UserWarning: Glyph 2488 (\\N{BENGALI LETTER SA}) missing from current font.\n",
      "  fig.canvas.print_figure(bytes_io, **kw)\n",
      "C:\\Users\\pirat\\anaconda3\\Lib\\site-packages\\IPython\\core\\pylabtools.py:152: UserWarning: Glyph 2482 (\\N{BENGALI LETTER LA}) missing from current font.\n",
      "  fig.canvas.print_figure(bytes_io, **kw)\n",
      "C:\\Users\\pirat\\anaconda3\\Lib\\site-packages\\IPython\\core\\pylabtools.py:152: UserWarning: Glyph 2438 (\\N{BENGALI LETTER AA}) missing from current font.\n",
      "  fig.canvas.print_figure(bytes_io, **kw)\n",
      "C:\\Users\\pirat\\anaconda3\\Lib\\site-packages\\IPython\\core\\pylabtools.py:152: UserWarning: Glyph 2465 (\\N{BENGALI LETTER DDA}) missing from current font.\n",
      "  fig.canvas.print_figure(bytes_io, **kw)\n",
      "C:\\Users\\pirat\\anaconda3\\Lib\\site-packages\\IPython\\core\\pylabtools.py:152: UserWarning: Glyph 2509 (\\N{BENGALI SIGN VIRAMA}) missing from current font.\n",
      "  fig.canvas.print_figure(bytes_io, **kw)\n",
      "C:\\Users\\pirat\\anaconda3\\Lib\\site-packages\\IPython\\core\\pylabtools.py:152: UserWarning: Glyph 2460 (\\N{BENGALI LETTER JA}) missing from current font.\n",
      "  fig.canvas.print_figure(bytes_io, **kw)\n",
      "C:\\Users\\pirat\\anaconda3\\Lib\\site-packages\\IPython\\core\\pylabtools.py:152: UserWarning: Glyph 2472 (\\N{BENGALI LETTER NA}) missing from current font.\n",
      "  fig.canvas.print_figure(bytes_io, **kw)\n",
      "C:\\Users\\pirat\\anaconda3\\Lib\\site-packages\\IPython\\core\\pylabtools.py:152: UserWarning: Glyph 2468 (\\N{BENGALI LETTER TA}) missing from current font.\n",
      "  fig.canvas.print_figure(bytes_io, **kw)\n",
      "C:\\Users\\pirat\\anaconda3\\Lib\\site-packages\\IPython\\core\\pylabtools.py:152: UserWarning: Glyph 2455 (\\N{BENGALI LETTER GA}) missing from current font.\n",
      "  fig.canvas.print_figure(bytes_io, **kw)\n",
      "C:\\Users\\pirat\\anaconda3\\Lib\\site-packages\\IPython\\core\\pylabtools.py:152: UserWarning: Glyph 2459 (\\N{BENGALI LETTER CHA}) missing from current font.\n",
      "  fig.canvas.print_figure(bytes_io, **kw)\n",
      "C:\\Users\\pirat\\anaconda3\\Lib\\site-packages\\IPython\\core\\pylabtools.py:152: UserWarning: Glyph 2476 (\\N{BENGALI LETTER BA}) missing from current font.\n",
      "  fig.canvas.print_figure(bytes_io, **kw)\n",
      "C:\\Users\\pirat\\anaconda3\\Lib\\site-packages\\IPython\\core\\pylabtools.py:152: UserWarning: Glyph 2470 (\\N{BENGALI LETTER DA}) missing from current font.\n",
      "  fig.canvas.print_figure(bytes_io, **kw)\n",
      "C:\\Users\\pirat\\anaconda3\\Lib\\site-packages\\IPython\\core\\pylabtools.py:152: UserWarning: Glyph 2454 (\\N{BENGALI LETTER KHA}) missing from current font.\n",
      "  fig.canvas.print_figure(bytes_io, **kw)\n",
      "C:\\Users\\pirat\\anaconda3\\Lib\\site-packages\\IPython\\core\\pylabtools.py:152: UserWarning: Glyph 2404 (\\N{DEVANAGARI DANDA}) missing from current font.\n",
      "  fig.canvas.print_figure(bytes_io, **kw)\n",
      "C:\\Users\\pirat\\anaconda3\\Lib\\site-packages\\IPython\\core\\pylabtools.py:152: UserWarning: Matplotlib currently does not support Devanagari natively.\n",
      "  fig.canvas.print_figure(bytes_io, **kw)\n",
      "C:\\Users\\pirat\\anaconda3\\Lib\\site-packages\\IPython\\core\\pylabtools.py:152: UserWarning: Glyph 2486 (\\N{BENGALI LETTER SHA}) missing from current font.\n",
      "  fig.canvas.print_figure(bytes_io, **kw)\n",
      "C:\\Users\\pirat\\anaconda3\\Lib\\site-packages\\IPython\\core\\pylabtools.py:152: UserWarning: Glyph 2477 (\\N{BENGALI LETTER BHA}) missing from current font.\n",
      "  fig.canvas.print_figure(bytes_io, **kw)\n",
      "C:\\Users\\pirat\\anaconda3\\Lib\\site-packages\\IPython\\core\\pylabtools.py:152: UserWarning: Glyph 2507 (\\N{BENGALI VOWEL SIGN O}) missing from current font.\n",
      "  fig.canvas.print_figure(bytes_io, **kw)\n",
      "C:\\Users\\pirat\\anaconda3\\Lib\\site-packages\\IPython\\core\\pylabtools.py:152: UserWarning: Glyph 2474 (\\N{BENGALI LETTER PA}) missing from current font.\n",
      "  fig.canvas.print_figure(bytes_io, **kw)\n",
      "C:\\Users\\pirat\\anaconda3\\Lib\\site-packages\\IPython\\core\\pylabtools.py:152: UserWarning: Glyph 2497 (\\N{BENGALI VOWEL SIGN U}) missing from current font.\n",
      "  fig.canvas.print_figure(bytes_io, **kw)\n",
      "C:\\Users\\pirat\\anaconda3\\Lib\\site-packages\\IPython\\core\\pylabtools.py:152: UserWarning: Glyph 2496 (\\N{BENGALI VOWEL SIGN II}) missing from current font.\n",
      "  fig.canvas.print_figure(bytes_io, **kw)\n",
      "C:\\Users\\pirat\\anaconda3\\Lib\\site-packages\\IPython\\core\\pylabtools.py:152: UserWarning: Glyph 2451 (\\N{BENGALI LETTER O}) missing from current font.\n",
      "  fig.canvas.print_figure(bytes_io, **kw)\n",
      "C:\\Users\\pirat\\anaconda3\\Lib\\site-packages\\IPython\\core\\pylabtools.py:152: UserWarning: Glyph 2456 (\\N{BENGALI LETTER GHA}) missing from current font.\n",
      "  fig.canvas.print_figure(bytes_io, **kw)\n",
      "C:\\Users\\pirat\\anaconda3\\Lib\\site-packages\\IPython\\core\\pylabtools.py:152: UserWarning: Glyph 2475 (\\N{BENGALI LETTER PHA}) missing from current font.\n",
      "  fig.canvas.print_figure(bytes_io, **kw)\n",
      "C:\\Users\\pirat\\anaconda3\\Lib\\site-packages\\IPython\\core\\pylabtools.py:152: UserWarning: Glyph 2489 (\\N{BENGALI LETTER HA}) missing from current font.\n",
      "  fig.canvas.print_figure(bytes_io, **kw)\n",
      "C:\\Users\\pirat\\anaconda3\\Lib\\site-packages\\IPython\\core\\pylabtools.py:152: UserWarning: Glyph 2469 (\\N{BENGALI LETTER THA}) missing from current font.\n",
      "  fig.canvas.print_figure(bytes_io, **kw)\n",
      "C:\\Users\\pirat\\anaconda3\\Lib\\site-packages\\IPython\\core\\pylabtools.py:152: UserWarning: Glyph 2471 (\\N{BENGALI LETTER DHA}) missing from current font.\n",
      "  fig.canvas.print_figure(bytes_io, **kw)\n",
      "C:\\Users\\pirat\\anaconda3\\Lib\\site-packages\\IPython\\core\\pylabtools.py:152: UserWarning: Glyph 2437 (\\N{BENGALI LETTER A}) missing from current font.\n",
      "  fig.canvas.print_figure(bytes_io, **kw)\n",
      "C:\\Users\\pirat\\anaconda3\\Lib\\site-packages\\IPython\\core\\pylabtools.py:152: UserWarning: Glyph 2434 (\\N{BENGALI SIGN ANUSVARA}) missing from current font.\n",
      "  fig.canvas.print_figure(bytes_io, **kw)\n",
      "C:\\Users\\pirat\\anaconda3\\Lib\\site-packages\\IPython\\core\\pylabtools.py:152: UserWarning: Glyph 2441 (\\N{BENGALI LETTER U}) missing from current font.\n",
      "  fig.canvas.print_figure(bytes_io, **kw)\n",
      "C:\\Users\\pirat\\anaconda3\\Lib\\site-packages\\IPython\\core\\pylabtools.py:152: UserWarning: Glyph 2464 (\\N{BENGALI LETTER TTHA}) missing from current font.\n",
      "  fig.canvas.print_figure(bytes_io, **kw)\n",
      "C:\\Users\\pirat\\anaconda3\\Lib\\site-packages\\IPython\\core\\pylabtools.py:152: UserWarning: Glyph 2439 (\\N{BENGALI LETTER I}) missing from current font.\n",
      "  fig.canvas.print_figure(bytes_io, **kw)\n",
      "C:\\Users\\pirat\\anaconda3\\Lib\\site-packages\\IPython\\core\\pylabtools.py:152: UserWarning: Glyph 2457 (\\N{BENGALI LETTER NGA}) missing from current font.\n",
      "  fig.canvas.print_figure(bytes_io, **kw)\n",
      "C:\\Users\\pirat\\anaconda3\\Lib\\site-packages\\IPython\\core\\pylabtools.py:152: UserWarning: Glyph 2467 (\\N{BENGALI LETTER NNA}) missing from current font.\n",
      "  fig.canvas.print_figure(bytes_io, **kw)\n",
      "C:\\Users\\pirat\\anaconda3\\Lib\\site-packages\\IPython\\core\\pylabtools.py:152: UserWarning: Glyph 2498 (\\N{BENGALI VOWEL SIGN UU}) missing from current font.\n",
      "  fig.canvas.print_figure(bytes_io, **kw)\n",
      "C:\\Users\\pirat\\anaconda3\\Lib\\site-packages\\IPython\\core\\pylabtools.py:152: UserWarning: Glyph 2499 (\\N{BENGALI VOWEL SIGN VOCALIC R}) missing from current font.\n",
      "  fig.canvas.print_figure(bytes_io, **kw)\n",
      "C:\\Users\\pirat\\anaconda3\\Lib\\site-packages\\IPython\\core\\pylabtools.py:152: UserWarning: Glyph 2487 (\\N{BENGALI LETTER SSA}) missing from current font.\n",
      "  fig.canvas.print_figure(bytes_io, **kw)\n",
      "C:\\Users\\pirat\\anaconda3\\Lib\\site-packages\\IPython\\core\\pylabtools.py:152: UserWarning: Glyph 2458 (\\N{BENGALI LETTER CA}) missing from current font.\n",
      "  fig.canvas.print_figure(bytes_io, **kw)\n",
      "C:\\Users\\pirat\\anaconda3\\Lib\\site-packages\\IPython\\core\\pylabtools.py:152: UserWarning: Glyph 2504 (\\N{BENGALI VOWEL SIGN AI}) missing from current font.\n",
      "  fig.canvas.print_figure(bytes_io, **kw)\n",
      "C:\\Users\\pirat\\anaconda3\\Lib\\site-packages\\IPython\\core\\pylabtools.py:152: UserWarning: Glyph 2462 (\\N{BENGALI LETTER NYA}) missing from current font.\n",
      "  fig.canvas.print_figure(bytes_io, **kw)\n",
      "C:\\Users\\pirat\\anaconda3\\Lib\\site-packages\\IPython\\core\\pylabtools.py:152: UserWarning: Glyph 2508 (\\N{BENGALI VOWEL SIGN AU}) missing from current font.\n",
      "  fig.canvas.print_figure(bytes_io, **kw)\n",
      "C:\\Users\\pirat\\anaconda3\\Lib\\site-packages\\IPython\\core\\pylabtools.py:152: UserWarning: Glyph 2466 (\\N{BENGALI LETTER DDHA}) missing from current font.\n",
      "  fig.canvas.print_figure(bytes_io, **kw)\n",
      "C:\\Users\\pirat\\anaconda3\\Lib\\site-packages\\IPython\\core\\pylabtools.py:152: UserWarning: Glyph 2535 (\\N{BENGALI DIGIT ONE}) missing from current font.\n",
      "  fig.canvas.print_figure(bytes_io, **kw)\n",
      "C:\\Users\\pirat\\anaconda3\\Lib\\site-packages\\IPython\\core\\pylabtools.py:152: UserWarning: Glyph 2537 (\\N{BENGALI DIGIT THREE}) missing from current font.\n",
      "  fig.canvas.print_figure(bytes_io, **kw)\n",
      "C:\\Users\\pirat\\anaconda3\\Lib\\site-packages\\IPython\\core\\pylabtools.py:152: UserWarning: Glyph 2534 (\\N{BENGALI DIGIT ZERO}) missing from current font.\n",
      "  fig.canvas.print_figure(bytes_io, **kw)\n",
      "C:\\Users\\pirat\\anaconda3\\Lib\\site-packages\\IPython\\core\\pylabtools.py:152: UserWarning: Glyph 2536 (\\N{BENGALI DIGIT TWO}) missing from current font.\n",
      "  fig.canvas.print_figure(bytes_io, **kw)\n",
      "C:\\Users\\pirat\\anaconda3\\Lib\\site-packages\\IPython\\core\\pylabtools.py:152: UserWarning: Glyph 2541 (\\N{BENGALI DIGIT SEVEN}) missing from current font.\n",
      "  fig.canvas.print_figure(bytes_io, **kw)\n",
      "C:\\Users\\pirat\\anaconda3\\Lib\\site-packages\\IPython\\core\\pylabtools.py:152: UserWarning: Glyph 2527 (\\N{BENGALI LETTER YYA}) missing from current font.\n",
      "  fig.canvas.print_figure(bytes_io, **kw)\n",
      "C:\\Users\\pirat\\anaconda3\\Lib\\site-packages\\IPython\\core\\pylabtools.py:152: UserWarning: Glyph 2543 (\\N{BENGALI DIGIT NINE}) missing from current font.\n",
      "  fig.canvas.print_figure(bytes_io, **kw)\n",
      "C:\\Users\\pirat\\anaconda3\\Lib\\site-packages\\IPython\\core\\pylabtools.py:152: UserWarning: Glyph 2547 (\\N{BENGALI RUPEE SIGN}) missing from current font.\n",
      "  fig.canvas.print_figure(bytes_io, **kw)\n",
      "C:\\Users\\pirat\\anaconda3\\Lib\\site-packages\\IPython\\core\\pylabtools.py:152: UserWarning: Glyph 2433 (\\N{BENGALI SIGN CANDRABINDU}) missing from current font.\n",
      "  fig.canvas.print_figure(bytes_io, **kw)\n",
      "C:\\Users\\pirat\\anaconda3\\Lib\\site-packages\\IPython\\core\\pylabtools.py:152: UserWarning: Glyph 129300 (\\N{THINKING FACE}) missing from current font.\n",
      "  fig.canvas.print_figure(bytes_io, **kw)\n",
      "C:\\Users\\pirat\\anaconda3\\Lib\\site-packages\\IPython\\core\\pylabtools.py:152: UserWarning: Glyph 2435 (\\N{BENGALI SIGN VISARGA}) missing from current font.\n",
      "  fig.canvas.print_figure(bytes_io, **kw)\n",
      "C:\\Users\\pirat\\anaconda3\\Lib\\site-packages\\IPython\\core\\pylabtools.py:152: UserWarning: Glyph 2524 (\\N{BENGALI LETTER RRA}) missing from current font.\n",
      "  fig.canvas.print_figure(bytes_io, **kw)\n"
     ]
    },
    {
     "name": "stderr",
     "output_type": "stream",
     "text": [
      "C:\\Users\\pirat\\anaconda3\\Lib\\site-packages\\IPython\\core\\pylabtools.py:152: UserWarning: Glyph 2538 (\\N{BENGALI DIGIT FOUR}) missing from current font.\n",
      "  fig.canvas.print_figure(bytes_io, **kw)\n",
      "C:\\Users\\pirat\\anaconda3\\Lib\\site-packages\\IPython\\core\\pylabtools.py:152: UserWarning: Glyph 2542 (\\N{BENGALI DIGIT EIGHT}) missing from current font.\n",
      "  fig.canvas.print_figure(bytes_io, **kw)\n",
      "C:\\Users\\pirat\\anaconda3\\Lib\\site-packages\\IPython\\core\\pylabtools.py:152: UserWarning: Glyph 10024 (\\N{SPARKLES}) missing from current font.\n",
      "  fig.canvas.print_figure(bytes_io, **kw)\n",
      "C:\\Users\\pirat\\anaconda3\\Lib\\site-packages\\IPython\\core\\pylabtools.py:152: UserWarning: Glyph 2461 (\\N{BENGALI LETTER JHA}) missing from current font.\n",
      "  fig.canvas.print_figure(bytes_io, **kw)\n",
      "C:\\Users\\pirat\\anaconda3\\Lib\\site-packages\\IPython\\core\\pylabtools.py:152: UserWarning: Glyph 129316 (\\N{DROOLING FACE}) missing from current font.\n",
      "  fig.canvas.print_figure(bytes_io, **kw)\n",
      "C:\\Users\\pirat\\anaconda3\\Lib\\site-packages\\IPython\\core\\pylabtools.py:152: UserWarning: Glyph 2551 (\\N{BENGALI CURRENCY NUMERATOR FOUR}) missing from current font.\n",
      "  fig.canvas.print_figure(bytes_io, **kw)\n",
      "C:\\Users\\pirat\\anaconda3\\Lib\\site-packages\\IPython\\core\\pylabtools.py:152: UserWarning: Glyph 2539 (\\N{BENGALI DIGIT FIVE}) missing from current font.\n",
      "  fig.canvas.print_figure(bytes_io, **kw)\n",
      "C:\\Users\\pirat\\anaconda3\\Lib\\site-packages\\IPython\\core\\pylabtools.py:152: UserWarning: Glyph 2510 (\\N{BENGALI LETTER KHANDA TA}) missing from current font.\n",
      "  fig.canvas.print_figure(bytes_io, **kw)\n",
      "C:\\Users\\pirat\\anaconda3\\Lib\\site-packages\\IPython\\core\\pylabtools.py:152: UserWarning: Glyph 2540 (\\N{BENGALI DIGIT SIX}) missing from current font.\n",
      "  fig.canvas.print_figure(bytes_io, **kw)\n",
      "C:\\Users\\pirat\\anaconda3\\Lib\\site-packages\\IPython\\core\\pylabtools.py:152: UserWarning: Glyph 128071 (\\N{WHITE DOWN POINTING BACKHAND INDEX}) missing from current font.\n",
      "  fig.canvas.print_figure(bytes_io, **kw)\n",
      "C:\\Users\\pirat\\anaconda3\\Lib\\site-packages\\IPython\\core\\pylabtools.py:152: UserWarning: Glyph 2448 (\\N{BENGALI LETTER AI}) missing from current font.\n",
      "  fig.canvas.print_figure(bytes_io, **kw)\n"
     ]
    },
    {
     "data": {
      "image/png": "[encoded data removed]",
      "text/plain": [
       "<Figure size 640x480 with 1 Axes>"
      ]
     },
     "metadata": {},
     "output_type": "display_data"
    }
   ],
   "source": [
    "ax = sns.countplot(x=\"Review\", data=df)"
   ]
  },
  {
   "cell_type": "markdown",
   "metadata": {
    "papermill": {
     "duration": 0.018702,
     "end_time": "2022-05-30T18:33:34.662882",
     "exception": false,
     "start_time": "2022-05-30T18:33:34.644180",
     "status": "completed"
    },
    "tags": []
   },
   "source": [
    "There is no class imbalance in the distribution of target variable."
   ]
  },
  {
   "cell_type": "markdown",
   "metadata": {
    "papermill": {
     "duration": 0.017596,
     "end_time": "2022-05-30T18:33:34.698576",
     "exception": false,
     "start_time": "2022-05-30T18:33:34.680980",
     "status": "completed"
    },
    "tags": []
   },
   "source": [
    "# Data Clensing\n",
    "\n",
    "We are using custom functions to perform the following tasks. Cleaning up the data for modeling should be carried out carefully and with the help of subject matter experts, if possible. This cleaning is done completely based on observation, and can not be considered as a generic preprocessing step for all the NLP tasks. This preprocessing function ensures:\n",
    "\n",
    "* Removing urls from tweet\n",
    "* Removing html tags\n",
    "* Removing punctuations\n",
    "* Removing stopwords\n",
    "* Removing emoji\n",
    "* Lemmatization"
   ]
  },
  {
   "cell_type": "code",
   "execution_count": 4,
   "metadata": {
    "execution": {
     "iopub.execute_input": "2022-05-30T18:33:34.738716Z",
     "iopub.status.busy": "2022-05-30T18:33:34.737682Z",
     "iopub.status.idle": "2022-05-30T18:33:34.749423Z",
     "shell.execute_reply": "2022-05-30T18:33:34.750045Z",
     "shell.execute_reply.started": "2022-05-11T05:52:40.096669Z"
    },
    "papermill": {
     "duration": 0.033748,
     "end_time": "2022-05-30T18:33:34.750203",
     "exception": false,
     "start_time": "2022-05-30T18:33:34.716455",
     "status": "completed"
    },
    "tags": []
   },
   "outputs": [],
   "source": [
    "def clean_text(text):\n",
    "    \n",
    "  \n",
    "    \n",
    "    emoji_pattern = re.compile(\"[\"\n",
    "                           u\"\\U0001F600-\\U0001F64F\"  # emoticons\n",
    "                           u\"\\U0001F300-\\U0001F5FF\"  # symbols & pictographs\n",
    "                           u\"\\U0001F680-\\U0001F6FF\"  # transport & map symbols\n",
    "                           u\"\\U0001F1E0-\\U0001F1FF\"  # flags (iOS)\n",
    "                           u\"\\U00002702-\\U000027B0\"\n",
    "                           u\"\\U000024C2-\\U0001F251\"\n",
    "                           \"]+\", flags=re.UNICODE)\n",
    "    text = emoji_pattern.sub(r'', text) #Removing emojis\n",
    "    \n",
    "    return text"
   ]
  },
  {
   "cell_type": "code",
   "execution_count": 5,
   "metadata": {
    "execution": {
     "iopub.execute_input": "2022-05-30T18:33:34.789851Z",
     "iopub.status.busy": "2022-05-30T18:33:34.788838Z",
     "iopub.status.idle": "2022-05-30T18:33:38.046832Z",
     "shell.execute_reply": "2022-05-30T18:33:38.046153Z",
     "shell.execute_reply.started": "2022-05-11T05:52:40.114676Z"
    },
    "papermill": {
     "duration": 3.278976,
     "end_time": "2022-05-30T18:33:38.046948",
     "exception": false,
     "start_time": "2022-05-30T18:33:34.767972",
     "status": "completed"
    },
    "tags": []
   },
   "outputs": [
    {
     "data": {
      "text/html": [
       "<div>\n",
       "<style scoped>\n",
       "    .dataframe tbody tr th:only-of-type {\n",
       "        vertical-align: middle;\n",
       "    }\n",
       "\n",
       "    .dataframe tbody tr th {\n",
       "        vertical-align: top;\n",
       "    }\n",
       "\n",
       "    .dataframe thead th {\n",
       "        text-align: right;\n",
       "    }\n",
       "</style>\n",
       "<table border=\"1\" class=\"dataframe\">\n",
       "  <thead>\n",
       "    <tr style=\"text-align: right;\">\n",
       "      <th></th>\n",
       "      <th>Review</th>\n",
       "      <th>Type</th>\n",
       "    </tr>\n",
       "  </thead>\n",
       "  <tbody>\n",
       "    <tr>\n",
       "      <th>0</th>\n",
       "      <td>মা মেয়ের একটি সকাল.আড্ডা আর মজার নাস্তা.আজ আম...</td>\n",
       "      <td>2</td>\n",
       "    </tr>\n",
       "    <tr>\n",
       "      <th>1</th>\n",
       "      <td>আমি ফুডপান্ডায় অর্ডার দিলাম এবং খাবার দেখে আম...</td>\n",
       "      <td>0</td>\n",
       "    </tr>\n",
       "    <tr>\n",
       "      <th>2</th>\n",
       "      <td>বৃষ্টির দিনে স্ট্রিটফুড খেতে কার না ভালো লাগে ...</td>\n",
       "      <td>2</td>\n",
       "    </tr>\n",
       "    <tr>\n",
       "      <th>3</th>\n",
       "      <td>আজকে এই প্রথমবার জিনজিরা ফেরিঘাট থেকে আসার পথে...</td>\n",
       "      <td>2</td>\n",
       "    </tr>\n",
       "    <tr>\n",
       "      <th>4</th>\n",
       "      <td>পছন্দের রেস্টুরেন্ট এর মধ্যে একটা হলো Chicken...</td>\n",
       "      <td>2</td>\n",
       "    </tr>\n",
       "  </tbody>\n",
       "</table>\n",
       "</div>"
      ],
      "text/plain": [
       "                                              Review  Type\n",
       "0  মা মেয়ের একটি সকাল.আড্ডা আর মজার নাস্তা.আজ আম...     2\n",
       "1  আমি ফুডপান্ডায় অর্ডার দিলাম এবং খাবার দেখে আম...     0\n",
       "2  বৃষ্টির দিনে স্ট্রিটফুড খেতে কার না ভালো লাগে ...     2\n",
       "3  আজকে এই প্রথমবার জিনজিরা ফেরিঘাট থেকে আসার পথে...     2\n",
       "4   পছন্দের রেস্টুরেন্ট এর মধ্যে একটা হলো Chicken...     2"
      ]
     },
     "execution_count": 5,
     "metadata": {},
     "output_type": "execute_result"
    }
   ],
   "source": [
    "df['Review'] = df['Review'].apply(lambda x: clean_text(x))\n",
    " \n",
    "df.head()"
   ]
  },
  {
   "cell_type": "markdown",
   "metadata": {
    "papermill": {
     "duration": 0.018705,
     "end_time": "2022-05-30T18:33:38.084083",
     "exception": false,
     "start_time": "2022-05-30T18:33:38.065378",
     "status": "completed"
    },
    "tags": []
   },
   "source": [
    "# Words to vectors"
   ]
  },
  {
   "cell_type": "markdown",
   "metadata": {
    "papermill": {
     "duration": 0.018048,
     "end_time": "2022-05-30T18:33:38.120568",
     "exception": false,
     "start_time": "2022-05-30T18:33:38.102520",
     "status": "completed"
    },
    "tags": []
   },
   "source": [
    "Reference\n",
    "\n",
    "https://towardsdatascience.com/word-embeddings-exploration-explanation-and-exploitation-with-code-in-python-5dac99d5d795\n",
    "\n",
    "https://towardsdatascience.com/hacking-scikit-learns-vectorizers-9ef26a7170af"
   ]
  },
  {
   "cell_type": "markdown",
   "metadata": {
    "papermill": {
     "duration": 0.01812,
     "end_time": "2022-05-30T18:33:38.157083",
     "exception": false,
     "start_time": "2022-05-30T18:33:38.138963",
     "status": "completed"
    },
    "tags": []
   },
   "source": [
    "We need to convert the words to numeric representations, to use them as input to our machine learning model. One way to do this is:\n",
    "\n",
    "## Count Vectorizer\n",
    "The most basic and naive method of transforming words into vectors by counting occurrence of each word in each document. The output is a document-term matrix with each row representing a document and each column addressing a token (weight assigned to each token based on counting the occurence). \n",
    "\n",
    "For example:"
   ]
  },
  {
   "cell_type": "code",
   "execution_count": 14,
   "metadata": {
    "execution": {
     "iopub.execute_input": "2022-05-30T18:33:38.197230Z",
     "iopub.status.busy": "2022-05-30T18:33:38.196625Z",
     "iopub.status.idle": "2022-05-30T18:33:38.203377Z",
     "shell.execute_reply": "2022-05-30T18:33:38.204063Z",
     "shell.execute_reply.started": "2022-05-11T05:52:43.450672Z"
    },
    "papermill": {
     "duration": 0.02838,
     "end_time": "2022-05-30T18:33:38.204220",
     "exception": false,
     "start_time": "2022-05-30T18:33:38.175840",
     "status": "completed"
    },
    "tags": []
   },
   "outputs": [
    {
     "data": {
      "text/plain": [
       "array(['মা মেয়ের একটি সকাল.আড্ডা আর মজার নাস্তা.আজ আমরা গিয়েছিলাম বনেদি তে নাস্তা খেতে।বেশ ভালো লেগেছে।পুরো রেস্টুরেন্ট টি দেশীও ঘরানার সাজানো গুছানো পরিপাটি।খাবারের স্বাদ বেশ ভালো দাম ও রিজনেবল।স্টাফ দের ব্যাবহার ভালো।মোট কথা পরিবার পরিজন বা বন্ধুদের নিয়ে বসে আড্ডা আর খাবার জন্য বেশ ভালো একটি রেস্টুরেন্ট।',\n",
       "       'আমি ফুডপান্ডায় অর্ডার দিলাম এবং খাবার দেখে আমি উত্তেজনায় ভরে উঠলাম। যাইহোক, খাবারের মান অবিশ্বাস্যভাবে ভয়ঙ্কর হয়ে উঠেছে, কারণ এটি সম্পূর্ণ করতে আমার মাত্র 2 মিনিট সময় লেগেছে। ফুড পান্ডা কর্তৃপক্ষের একজন প্রতিনিধি উপস্থিত থাকলে, আমি একটি বিষয় আপনার নজরে আনতে চাই - অনুগ্রহ করে রেস্টুরেন্টটি পরিদর্শন করুন। আমি ডেলিভারি পার্সনের কাছ থেকে জেনেছি যে খাবারটি তাদের কাছে একটি শারীরিক দোকানের পরিবর্তে একটি ব্যক্তিগত বাসভবন থেকে হস্তান্তর করা হয়েছিল। এটি সম্পূর্ণরূপে বাড়িতে তৈরি খাবার ছিল। আমি আজকে ফুডপান্ডার মতো সহজ/উবার/পাথি বা অন্য কোনও খাবার বিতরণ পরিষেবা নিয়ে এমন হতাশাজনক অভিজ্ঞতা কখনও পাইনি।'],\n",
       "      dtype=object)"
      ]
     },
     "execution_count": 14,
     "metadata": {},
     "output_type": "execute_result"
    }
   ],
   "source": [
    "sample_corpora = df['Review'].iloc[:2].values\n",
    "sample_corpora"
   ]
  },
  {
   "cell_type": "code",
   "execution_count": 15,
   "metadata": {
    "execution": {
     "iopub.execute_input": "2022-05-30T18:33:38.245918Z",
     "iopub.status.busy": "2022-05-30T18:33:38.244968Z",
     "iopub.status.idle": "2022-05-30T18:33:38.262354Z",
     "shell.execute_reply": "2022-05-30T18:33:38.262971Z",
     "shell.execute_reply.started": "2022-05-11T05:52:43.460094Z"
    },
    "papermill": {
     "duration": 0.039708,
     "end_time": "2022-05-30T18:33:38.263121",
     "exception": false,
     "start_time": "2022-05-30T18:33:38.223413",
     "status": "completed"
    },
    "tags": []
   },
   "outputs": [
    {
     "ename": "AttributeError",
     "evalue": "'CountVectorizer' object has no attribute 'get_feature_names'",
     "output_type": "error",
     "traceback": [
      "\u001b[1;31m---------------------------------------------------------------------------\u001b[0m",
      "\u001b[1;31mAttributeError\u001b[0m                            Traceback (most recent call last)",
      "Cell \u001b[1;32mIn[15], line 5\u001b[0m\n\u001b[0;32m      2\u001b[0m wm \u001b[38;5;241m=\u001b[39m count_vectorizer\u001b[38;5;241m.\u001b[39mfit_transform(sample_corpora)\n\u001b[0;32m      4\u001b[0m doc_names \u001b[38;5;241m=\u001b[39m [\u001b[38;5;124m'\u001b[39m\u001b[38;5;124mDoc\u001b[39m\u001b[38;5;132;01m{:d}\u001b[39;00m\u001b[38;5;124m'\u001b[39m\u001b[38;5;241m.\u001b[39mformat(idx) \u001b[38;5;28;01mfor\u001b[39;00m idx, _ \u001b[38;5;129;01min\u001b[39;00m \u001b[38;5;28menumerate\u001b[39m(wm)]\n\u001b[1;32m----> 5\u001b[0m feat_names \u001b[38;5;241m=\u001b[39m count_vectorizer\u001b[38;5;241m.\u001b[39mget_feature_names()\n\u001b[0;32m      8\u001b[0m sample_df \u001b[38;5;241m=\u001b[39m pd\u001b[38;5;241m.\u001b[39mDataFrame(data\u001b[38;5;241m=\u001b[39mwm\u001b[38;5;241m.\u001b[39mtoarray(), index\u001b[38;5;241m=\u001b[39mdoc_names,columns\u001b[38;5;241m=\u001b[39mfeat_names)\n\u001b[0;32m      9\u001b[0m sample_df\n",
      "\u001b[1;31mAttributeError\u001b[0m: 'CountVectorizer' object has no attribute 'get_feature_names'"
     ]
    }
   ],
   "source": [
    "count_vectorizer = CountVectorizer()\n",
    "wm = count_vectorizer.fit_transform(sample_corpora)\n",
    "\n",
    "doc_names = ['Doc{:d}'.format(idx) for idx, _ in enumerate(wm)]\n",
    "feat_names = count_vectorizer.get_feature_names()\n",
    "\n",
    "\n",
    "sample_df = pd.DataFrame(data=wm.toarray(), index=doc_names,columns=feat_names)\n",
    "sample_df"
   ]
  },
  {
   "cell_type": "markdown",
   "metadata": {
    "papermill": {
     "duration": 0.018623,
     "end_time": "2022-05-30T18:33:38.300754",
     "exception": false,
     "start_time": "2022-05-30T18:33:38.282131",
     "status": "completed"
    },
    "tags": []
   },
   "source": [
    "## TF-IDF Vectorizer\n",
    "\n",
    "Taking only word count in document have certain drawbacks. The presence of frequent word vectors wont be sparse (espicially stopwords), though the word may not be important. Also, rare words looks very sparse, hence less importance. To tackle these problems, we use TF-IDF vectorization. \n",
    "\n",
    "The first part is **TF**, called term frequency. This simply means the number of times the word occur in document divided by the total number of words in the document. \n",
    "\n",
    "The second part is **IDF**, which stands for ‘inverse document frequency’, interpreted like inversed number of documents, in which the term we’re interested in occurs."
   ]
  },
  {
   "cell_type": "markdown",
   "metadata": {
    "papermill": {
     "duration": 0.01895,
     "end_time": "2022-05-30T18:33:38.338693",
     "exception": false,
     "start_time": "2022-05-30T18:33:38.319743",
     "status": "completed"
    },
    "tags": []
   },
   "source": [
    "**$tf(t,d)$**  is the term frequency is the number of times the term appears in the document.\n",
    "\n",
    "**$$tf(t,d) = {n_{t,d} \\over \\sum_{{k \\in d}} n_{k,d}} $$**\n",
    "\n",
    "\n",
    "Where, $t$ is term and $d$ document.\n",
    "\n",
    "\n",
    "**$idf(t,D)$** is the document frequency is the number of documents '**d**' that contain term '**t**'.\n",
    "\n",
    "**$$idf(t,D) = {log {N\\over{n_t}}}$$**\n",
    "\n",
    "**$$d \\in D, t \\in d $$**\n",
    "\n",
    "\n",
    "where **$N$** is the total number of documents and **$n_t$** is the number of documents containing the term $t$.\n",
    "\n",
    "The **TF-IDF** vector,\n",
    "\n",
    "**$$tfidf(t,d,D) = tf(t,d) * idf(t,D)$$**\n",
    "\n",
    "\n",
    "### Smoothing\n",
    "\n",
    "An idf is constant per corpus for a word. A smoothened version, adding 1 to denominator is applied to avoid division by 0 (occurs when term is not present in corpora). The idea of idf is to weight down the frequent terms while scale up the rare ones, assuming more frequent ones are not always important ones. So, smoothened idf equation is:\n",
    "\n",
    "**$$idf(t,D) = {log {N\\over{1 + n_t}}}$$**\n",
    "\n",
    "NB : smoothing is set True as default in scikit learn tfidf vectorizer"
   ]
  },
  {
   "cell_type": "markdown",
   "metadata": {
    "papermill": {
     "duration": 0.01854,
     "end_time": "2022-05-30T18:33:38.376239",
     "exception": false,
     "start_time": "2022-05-30T18:33:38.357699",
     "status": "completed"
    },
    "tags": []
   },
   "source": [
    "# TF-IDF Vectorization using scikit learn"
   ]
  },
  {
   "cell_type": "markdown",
   "metadata": {
    "papermill": {
     "duration": 0.018653,
     "end_time": "2022-05-30T18:33:38.414067",
     "exception": false,
     "start_time": "2022-05-30T18:33:38.395414",
     "status": "completed"
    },
    "tags": []
   },
   "source": [
    "We will split the data to train and test set. In production, we may face out of vocabulary (OOV) words, so we need to account for that too while evaluating the model in test set. Hence we use training data to built vocabulory for tfidf vectorization.\n",
    "\n",
    "Tfidf vectorization can be implemented easily using scikit learn.\n",
    "\n",
    "Ref - https://scikit-learn.org/stable/modules/generated/sklearn.feature_extraction.text.TfidfVectorizer.html"
   ]
  },
  {
   "cell_type": "code",
   "execution_count": 6,
   "metadata": {
    "execution": {
     "iopub.execute_input": "2022-05-30T18:33:38.455939Z",
     "iopub.status.busy": "2022-05-30T18:33:38.454979Z",
     "iopub.status.idle": "2022-05-30T18:33:38.469261Z",
     "shell.execute_reply": "2022-05-30T18:33:38.469807Z",
     "shell.execute_reply.started": "2022-05-11T05:52:43.489131Z"
    },
    "papermill": {
     "duration": 0.036908,
     "end_time": "2022-05-30T18:33:38.469953",
     "exception": false,
     "start_time": "2022-05-30T18:33:38.433045",
     "status": "completed"
    },
    "tags": []
   },
   "outputs": [],
   "source": [
    "X_train, X_test , y_train, y_test = train_test_split(df['Review'].values,df['Type'].values,test_size=0.2,random_state=12,stratify=df['Type'].values)"
   ]
  },
  {
   "cell_type": "code",
   "execution_count": 9,
   "metadata": {
    "execution": {
     "iopub.execute_input": "2022-05-30T18:33:38.512155Z",
     "iopub.status.busy": "2022-05-30T18:33:38.511165Z",
     "iopub.status.idle": "2022-05-30T18:33:38.725168Z",
     "shell.execute_reply": "2022-05-30T18:33:38.724396Z",
     "shell.execute_reply.started": "2022-05-11T05:52:43.51084Z"
    },
    "papermill": {
     "duration": 0.236151,
     "end_time": "2022-05-30T18:33:38.725289",
     "exception": false,
     "start_time": "2022-05-30T18:33:38.489138",
     "status": "completed"
    },
    "tags": []
   },
   "outputs": [],
   "source": [
    "tfidf_vectorizer = TfidfVectorizer() \n",
    "\n",
    "tfidf_train_vectors = tfidf_vectorizer.fit_transform(X_train)\n",
    "\n",
    "tfidf_test_vectors = tfidf_vectorizer.transform(X_test)"
   ]
  },
  {
   "cell_type": "markdown",
   "metadata": {
    "papermill": {
     "duration": 0.019212,
     "end_time": "2022-05-30T18:33:38.763907",
     "exception": false,
     "start_time": "2022-05-30T18:33:38.744695",
     "status": "completed"
    },
    "tags": []
   },
   "source": [
    "# Random Forest classifier\n",
    "\n",
    "A basic random forest model is used for classification problem."
   ]
  },
  {
   "cell_type": "code",
   "execution_count": 10,
   "metadata": {
    "execution": {
     "iopub.execute_input": "2022-05-30T18:33:38.805781Z",
     "iopub.status.busy": "2022-05-30T18:33:38.805143Z",
     "iopub.status.idle": "2022-05-30T18:33:45.838303Z",
     "shell.execute_reply": "2022-05-30T18:33:45.838815Z",
     "shell.execute_reply.started": "2022-05-11T05:52:43.732808Z"
    },
    "papermill": {
     "duration": 7.055763,
     "end_time": "2022-05-30T18:33:45.838960",
     "exception": false,
     "start_time": "2022-05-30T18:33:38.783197",
     "status": "completed"
    },
    "tags": []
   },
   "outputs": [
    {
     "data": {
      "text/html": [
       "<style>#sk-container-id-1 {color: black;}#sk-container-id-1 pre{padding: 0;}#sk-container-id-1 div.sk-toggleable {background-color: white;}#sk-container-id-1 label.sk-toggleable__label {cursor: pointer;display: block;width: 100%;margin-bottom: 0;padding: 0.3em;box-sizing: border-box;text-align: center;}#sk-container-id-1 label.sk-toggleable__label-arrow:before {content: \"▸\";float: left;margin-right: 0.25em;color: #696969;}#sk-container-id-1 label.sk-toggleable__label-arrow:hover:before {color: black;}#sk-container-id-1 div.sk-estimator:hover label.sk-toggleable__label-arrow:before {color: black;}#sk-container-id-1 div.sk-toggleable__content {max-height: 0;max-width: 0;overflow: hidden;text-align: left;background-color: #f0f8ff;}#sk-container-id-1 div.sk-toggleable__content pre {margin: 0.2em;color: black;border-radius: 0.25em;background-color: #f0f8ff;}#sk-container-id-1 input.sk-toggleable__control:checked~div.sk-toggleable__content {max-height: 200px;max-width: 100%;overflow: auto;}#sk-container-id-1 input.sk-toggleable__control:checked~label.sk-toggleable__label-arrow:before {content: \"▾\";}#sk-container-id-1 div.sk-estimator input.sk-toggleable__control:checked~label.sk-toggleable__label {background-color: #d4ebff;}#sk-container-id-1 div.sk-label input.sk-toggleable__control:checked~label.sk-toggleable__label {background-color: #d4ebff;}#sk-container-id-1 input.sk-hidden--visually {border: 0;clip: rect(1px 1px 1px 1px);clip: rect(1px, 1px, 1px, 1px);height: 1px;margin: -1px;overflow: hidden;padding: 0;position: absolute;width: 1px;}#sk-container-id-1 div.sk-estimator {font-family: monospace;background-color: #f0f8ff;border: 1px dotted black;border-radius: 0.25em;box-sizing: border-box;margin-bottom: 0.5em;}#sk-container-id-1 div.sk-estimator:hover {background-color: #d4ebff;}#sk-container-id-1 div.sk-parallel-item::after {content: \"\";width: 100%;border-bottom: 1px solid gray;flex-grow: 1;}#sk-container-id-1 div.sk-label:hover label.sk-toggleable__label {background-color: #d4ebff;}#sk-container-id-1 div.sk-serial::before {content: \"\";position: absolute;border-left: 1px solid gray;box-sizing: border-box;top: 0;bottom: 0;left: 50%;z-index: 0;}#sk-container-id-1 div.sk-serial {display: flex;flex-direction: column;align-items: center;background-color: white;padding-right: 0.2em;padding-left: 0.2em;position: relative;}#sk-container-id-1 div.sk-item {position: relative;z-index: 1;}#sk-container-id-1 div.sk-parallel {display: flex;align-items: stretch;justify-content: center;background-color: white;position: relative;}#sk-container-id-1 div.sk-item::before, #sk-container-id-1 div.sk-parallel-item::before {content: \"\";position: absolute;border-left: 1px solid gray;box-sizing: border-box;top: 0;bottom: 0;left: 50%;z-index: -1;}#sk-container-id-1 div.sk-parallel-item {display: flex;flex-direction: column;z-index: 1;position: relative;background-color: white;}#sk-container-id-1 div.sk-parallel-item:first-child::after {align-self: flex-end;width: 50%;}#sk-container-id-1 div.sk-parallel-item:last-child::after {align-self: flex-start;width: 50%;}#sk-container-id-1 div.sk-parallel-item:only-child::after {width: 0;}#sk-container-id-1 div.sk-dashed-wrapped {border: 1px dashed gray;margin: 0 0.4em 0.5em 0.4em;box-sizing: border-box;padding-bottom: 0.4em;background-color: white;}#sk-container-id-1 div.sk-label label {font-family: monospace;font-weight: bold;display: inline-block;line-height: 1.2em;}#sk-container-id-1 div.sk-label-container {text-align: center;}#sk-container-id-1 div.sk-container {/* jupyter's `normalize.less` sets `[hidden] { display: none; }` but bootstrap.min.css set `[hidden] { display: none !important; }` so we also need the `!important` here to be able to override the default hidden behavior on the sphinx rendered scikit-learn.org. See: https://github.com/scikit-learn/scikit-learn/issues/21755 */display: inline-block !important;position: relative;}#sk-container-id-1 div.sk-text-repr-fallback {display: none;}</style><div id=\"sk-container-id-1\" class=\"sk-top-container\"><div class=\"sk-text-repr-fallback\"><pre>RandomForestClassifier()</pre><b>In a Jupyter environment, please rerun this cell to show the HTML representation or trust the notebook. <br />On GitHub, the HTML representation is unable to render, please try loading this page with nbviewer.org.</b></div><div class=\"sk-container\" hidden><div class=\"sk-item\"><div class=\"sk-estimator sk-toggleable\"><input class=\"sk-toggleable__control sk-hidden--visually\" id=\"sk-estimator-id-1\" type=\"checkbox\" checked><label for=\"sk-estimator-id-1\" class=\"sk-toggleable__label sk-toggleable__label-arrow\">RandomForestClassifier</label><div class=\"sk-toggleable__content\"><pre>RandomForestClassifier()</pre></div></div></div></div></div>"
      ],
      "text/plain": [
       "RandomForestClassifier()"
      ]
     },
     "execution_count": 10,
     "metadata": {},
     "output_type": "execute_result"
    }
   ],
   "source": [
    "classifier = RandomForestClassifier()\n",
    "\n",
    "classifier.fit(tfidf_train_vectors,y_train)"
   ]
  },
  {
   "cell_type": "code",
   "execution_count": null,
   "metadata": {},
   "outputs": [],
   "source": []
  },
  {
   "cell_type": "code",
   "execution_count": 11,
   "metadata": {
    "execution": {
     "iopub.execute_input": "2022-05-30T18:33:45.881594Z",
     "iopub.status.busy": "2022-05-30T18:33:45.880969Z",
     "iopub.status.idle": "2022-05-30T18:33:46.033182Z",
     "shell.execute_reply": "2022-05-30T18:33:46.032492Z",
     "shell.execute_reply.started": "2022-05-11T05:52:50.887294Z"
    },
    "papermill": {
     "duration": 0.174611,
     "end_time": "2022-05-30T18:33:46.033306",
     "exception": false,
     "start_time": "2022-05-30T18:33:45.858695",
     "status": "completed"
    },
    "tags": []
   },
   "outputs": [],
   "source": [
    "y_pred = classifier.predict(tfidf_test_vectors)"
   ]
  },
  {
   "cell_type": "code",
   "execution_count": 12,
   "metadata": {
    "execution": {
     "iopub.execute_input": "2022-05-30T18:33:46.077054Z",
     "iopub.status.busy": "2022-05-30T18:33:46.076311Z",
     "iopub.status.idle": "2022-05-30T18:33:46.088641Z",
     "shell.execute_reply": "2022-05-30T18:33:46.087906Z",
     "shell.execute_reply.started": "2022-05-11T05:52:51.041767Z"
    },
    "papermill": {
     "duration": 0.035359,
     "end_time": "2022-05-30T18:33:46.088795",
     "exception": false,
     "start_time": "2022-05-30T18:33:46.053436",
     "status": "completed"
    },
    "tags": []
   },
   "outputs": [
    {
     "name": "stdout",
     "output_type": "stream",
     "text": [
      "              precision    recall  f1-score   support\n",
      "\n",
      "           0       0.00      0.00      0.00         3\n",
      "           1       0.67      0.75      0.71         8\n",
      "           2       0.71      0.83      0.77        12\n",
      "\n",
      "    accuracy                           0.70        23\n",
      "   macro avg       0.46      0.53      0.49        23\n",
      "weighted avg       0.60      0.70      0.65        23\n",
      "\n"
     ]
    },
    {
     "name": "stderr",
     "output_type": "stream",
     "text": [
      "C:\\Users\\pirat\\anaconda3\\Lib\\site-packages\\sklearn\\metrics\\_classification.py:1469: UndefinedMetricWarning: Precision and F-score are ill-defined and being set to 0.0 in labels with no predicted samples. Use `zero_division` parameter to control this behavior.\n",
      "  _warn_prf(average, modifier, msg_start, len(result))\n",
      "C:\\Users\\pirat\\anaconda3\\Lib\\site-packages\\sklearn\\metrics\\_classification.py:1469: UndefinedMetricWarning: Precision and F-score are ill-defined and being set to 0.0 in labels with no predicted samples. Use `zero_division` parameter to control this behavior.\n",
      "  _warn_prf(average, modifier, msg_start, len(result))\n",
      "C:\\Users\\pirat\\anaconda3\\Lib\\site-packages\\sklearn\\metrics\\_classification.py:1469: UndefinedMetricWarning: Precision and F-score are ill-defined and being set to 0.0 in labels with no predicted samples. Use `zero_division` parameter to control this behavior.\n",
      "  _warn_prf(average, modifier, msg_start, len(result))\n"
     ]
    }
   ],
   "source": [
    "print(classification_report(y_test,y_pred))"
   ]
  },
  {
   "cell_type": "code",
   "execution_count": null,
   "metadata": {},
   "outputs": [],
   "source": [
    "svc"
   ]
  },
  {
   "cell_type": "code",
   "execution_count": 13,
   "metadata": {},
   "outputs": [
    {
     "name": "stdout",
     "output_type": "stream",
     "text": [
      "              precision    recall  f1-score   support\n",
      "\n",
      "           0       0.00      0.00      0.00         3\n",
      "           1       0.67      0.75      0.71         8\n",
      "           2       0.71      0.83      0.77        12\n",
      "\n",
      "    accuracy                           0.70        23\n",
      "   macro avg       0.46      0.53      0.49        23\n",
      "weighted avg       0.60      0.70      0.65        23\n",
      "\n"
     ]
    },
    {
     "name": "stderr",
     "output_type": "stream",
     "text": [
      "C:\\Users\\pirat\\anaconda3\\Lib\\site-packages\\sklearn\\metrics\\_classification.py:1469: UndefinedMetricWarning: Precision and F-score are ill-defined and being set to 0.0 in labels with no predicted samples. Use `zero_division` parameter to control this behavior.\n",
      "  _warn_prf(average, modifier, msg_start, len(result))\n",
      "C:\\Users\\pirat\\anaconda3\\Lib\\site-packages\\sklearn\\metrics\\_classification.py:1469: UndefinedMetricWarning: Precision and F-score are ill-defined and being set to 0.0 in labels with no predicted samples. Use `zero_division` parameter to control this behavior.\n",
      "  _warn_prf(average, modifier, msg_start, len(result))\n",
      "C:\\Users\\pirat\\anaconda3\\Lib\\site-packages\\sklearn\\metrics\\_classification.py:1469: UndefinedMetricWarning: Precision and F-score are ill-defined and being set to 0.0 in labels with no predicted samples. Use `zero_division` parameter to control this behavior.\n",
      "  _warn_prf(average, modifier, msg_start, len(result))\n"
     ]
    }
   ],
   "source": [
    "from sklearn.svm import SVC\n",
    "\n",
    "# Initialize the Support Vector Machine classifier\n",
    "svm_classifier = SVC()\n",
    "\n",
    "# Train the classifier using the TF-IDF vectors and corresponding labels\n",
    "svm_classifier.fit(tfidf_train_vectors, y_train)\n",
    "y_pred = classifier.predict(tfidf_test_vectors)\n",
    "print(classification_report(y_test,y_pred))"
   ]
  },
  {
   "cell_type": "code",
   "execution_count": null,
   "metadata": {},
   "outputs": [],
   "source": [
    "nb"
   ]
  },
  {
   "cell_type": "code",
   "execution_count": 14,
   "metadata": {},
   "outputs": [
    {
     "name": "stdout",
     "output_type": "stream",
     "text": [
      "              precision    recall  f1-score   support\n",
      "\n",
      "           0       0.00      0.00      0.00         3\n",
      "           1       1.00      0.12      0.22         8\n",
      "           2       0.55      1.00      0.71        12\n",
      "\n",
      "    accuracy                           0.57        23\n",
      "   macro avg       0.52      0.38      0.31        23\n",
      "weighted avg       0.63      0.57      0.45        23\n",
      "\n"
     ]
    },
    {
     "name": "stderr",
     "output_type": "stream",
     "text": [
      "C:\\Users\\pirat\\anaconda3\\Lib\\site-packages\\sklearn\\metrics\\_classification.py:1469: UndefinedMetricWarning: Precision and F-score are ill-defined and being set to 0.0 in labels with no predicted samples. Use `zero_division` parameter to control this behavior.\n",
      "  _warn_prf(average, modifier, msg_start, len(result))\n",
      "C:\\Users\\pirat\\anaconda3\\Lib\\site-packages\\sklearn\\metrics\\_classification.py:1469: UndefinedMetricWarning: Precision and F-score are ill-defined and being set to 0.0 in labels with no predicted samples. Use `zero_division` parameter to control this behavior.\n",
      "  _warn_prf(average, modifier, msg_start, len(result))\n",
      "C:\\Users\\pirat\\anaconda3\\Lib\\site-packages\\sklearn\\metrics\\_classification.py:1469: UndefinedMetricWarning: Precision and F-score are ill-defined and being set to 0.0 in labels with no predicted samples. Use `zero_division` parameter to control this behavior.\n",
      "  _warn_prf(average, modifier, msg_start, len(result))\n"
     ]
    }
   ],
   "source": [
    "from sklearn.naive_bayes import MultinomialNB\n",
    "\n",
    "# Initialize the Multinomial Naive Bayes classifier\n",
    "nb_classifier = MultinomialNB()\n",
    "\n",
    "# Train the classifier using the TF-IDF vectors and corresponding labels\n",
    "nb_classifier.fit(tfidf_train_vectors, y_train)\n",
    "\n",
    "# Predict using the trained classifier\n",
    "y_pred_nb = nb_classifier.predict(tfidf_test_vectors)\n",
    "\n",
    "# Import classification report\n",
    "from sklearn.metrics import classification_report\n",
    "\n",
    "# Print classification report\n",
    "print(classification_report(y_test, y_pred_nb))"
   ]
  },
  {
   "cell_type": "code",
   "execution_count": null,
   "metadata": {},
   "outputs": [],
   "source": [
    "dt"
   ]
  },
  {
   "cell_type": "code",
   "execution_count": 15,
   "metadata": {},
   "outputs": [
    {
     "name": "stdout",
     "output_type": "stream",
     "text": [
      "              precision    recall  f1-score   support\n",
      "\n",
      "           0       0.29      0.67      0.40         3\n",
      "           1       0.38      0.38      0.38         8\n",
      "           2       0.62      0.42      0.50        12\n",
      "\n",
      "    accuracy                           0.43        23\n",
      "   macro avg       0.43      0.49      0.42        23\n",
      "weighted avg       0.49      0.43      0.44        23\n",
      "\n"
     ]
    }
   ],
   "source": [
    "from sklearn.tree import DecisionTreeClassifier\n",
    "\n",
    "# Initialize the Decision Tree classifier\n",
    "dt_classifier = DecisionTreeClassifier()\n",
    "\n",
    "# Train the classifier using the TF-IDF vectors and corresponding labels\n",
    "dt_classifier.fit(tfidf_train_vectors, y_train)\n",
    "\n",
    "# Predict using the trained classifier\n",
    "y_pred_dt = dt_classifier.predict(tfidf_test_vectors)\n",
    "\n",
    "# Print classification report\n",
    "print(classification_report(y_test, y_pred_dt))\n"
   ]
  },
  {
   "cell_type": "code",
   "execution_count": null,
   "metadata": {},
   "outputs": [],
   "source": [
    "lg"
   ]
  },
  {
   "cell_type": "code",
   "execution_count": 16,
   "metadata": {},
   "outputs": [
    {
     "name": "stdout",
     "output_type": "stream",
     "text": [
      "              precision    recall  f1-score   support\n",
      "\n",
      "           0       0.00      0.00      0.00         3\n",
      "           1       0.75      0.38      0.50         8\n",
      "           2       0.58      0.92      0.71        12\n",
      "\n",
      "    accuracy                           0.61        23\n",
      "   macro avg       0.44      0.43      0.40        23\n",
      "weighted avg       0.56      0.61      0.54        23\n",
      "\n"
     ]
    },
    {
     "name": "stderr",
     "output_type": "stream",
     "text": [
      "C:\\Users\\pirat\\anaconda3\\Lib\\site-packages\\sklearn\\metrics\\_classification.py:1469: UndefinedMetricWarning: Precision and F-score are ill-defined and being set to 0.0 in labels with no predicted samples. Use `zero_division` parameter to control this behavior.\n",
      "  _warn_prf(average, modifier, msg_start, len(result))\n",
      "C:\\Users\\pirat\\anaconda3\\Lib\\site-packages\\sklearn\\metrics\\_classification.py:1469: UndefinedMetricWarning: Precision and F-score are ill-defined and being set to 0.0 in labels with no predicted samples. Use `zero_division` parameter to control this behavior.\n",
      "  _warn_prf(average, modifier, msg_start, len(result))\n",
      "C:\\Users\\pirat\\anaconda3\\Lib\\site-packages\\sklearn\\metrics\\_classification.py:1469: UndefinedMetricWarning: Precision and F-score are ill-defined and being set to 0.0 in labels with no predicted samples. Use `zero_division` parameter to control this behavior.\n",
      "  _warn_prf(average, modifier, msg_start, len(result))\n"
     ]
    }
   ],
   "source": [
    "from sklearn.linear_model import LogisticRegression\n",
    "\n",
    "# Initialize the Logistic Regression classifier\n",
    "lr_classifier = LogisticRegression()\n",
    "\n",
    "# Train the classifier using the TF-IDF vectors and corresponding labels\n",
    "lr_classifier.fit(tfidf_train_vectors, y_train)\n",
    "\n",
    "# Predict using the trained classifier\n",
    "y_pred_lr = lr_classifier.predict(tfidf_test_vectors)\n",
    "\n",
    "# Print classification report\n",
    "print(classification_report(y_test, y_pred_lr))\n"
   ]
  },
  {
   "cell_type": "code",
   "execution_count": null,
   "metadata": {},
   "outputs": [],
   "source": [
    "knn"
   ]
  },
  {
   "cell_type": "code",
   "execution_count": 17,
   "metadata": {},
   "outputs": [
    {
     "name": "stdout",
     "output_type": "stream",
     "text": [
      "              precision    recall  f1-score   support\n",
      "\n",
      "           0       0.00      0.00      0.00         3\n",
      "           1       0.50      0.75      0.60         8\n",
      "           2       0.55      0.50      0.52        12\n",
      "\n",
      "    accuracy                           0.52        23\n",
      "   macro avg       0.35      0.42      0.37        23\n",
      "weighted avg       0.46      0.52      0.48        23\n",
      "\n"
     ]
    },
    {
     "name": "stderr",
     "output_type": "stream",
     "text": [
      "C:\\Users\\pirat\\anaconda3\\Lib\\site-packages\\sklearn\\metrics\\_classification.py:1469: UndefinedMetricWarning: Precision and F-score are ill-defined and being set to 0.0 in labels with no predicted samples. Use `zero_division` parameter to control this behavior.\n",
      "  _warn_prf(average, modifier, msg_start, len(result))\n",
      "C:\\Users\\pirat\\anaconda3\\Lib\\site-packages\\sklearn\\metrics\\_classification.py:1469: UndefinedMetricWarning: Precision and F-score are ill-defined and being set to 0.0 in labels with no predicted samples. Use `zero_division` parameter to control this behavior.\n",
      "  _warn_prf(average, modifier, msg_start, len(result))\n",
      "C:\\Users\\pirat\\anaconda3\\Lib\\site-packages\\sklearn\\metrics\\_classification.py:1469: UndefinedMetricWarning: Precision and F-score are ill-defined and being set to 0.0 in labels with no predicted samples. Use `zero_division` parameter to control this behavior.\n",
      "  _warn_prf(average, modifier, msg_start, len(result))\n"
     ]
    }
   ],
   "source": [
    "from sklearn.neighbors import KNeighborsClassifier\n",
    "\n",
    "# Initialize the K-Nearest Neighbors classifier\n",
    "knn_classifier = KNeighborsClassifier()\n",
    "\n",
    "# Train the classifier using the TF-IDF vectors and corresponding labels\n",
    "knn_classifier.fit(tfidf_train_vectors, y_train)\n",
    "\n",
    "# Predict using the trained classifier\n",
    "y_pred_knn = knn_classifier.predict(tfidf_test_vectors)\n",
    "\n",
    "# Print classification report\n",
    "print(classification_report(y_test, y_pred_knn))\n"
   ]
  },
  {
   "cell_type": "code",
   "execution_count": null,
   "metadata": {},
   "outputs": [],
   "source": [
    "gb"
   ]
  },
  {
   "cell_type": "code",
   "execution_count": 18,
   "metadata": {},
   "outputs": [
    {
     "name": "stdout",
     "output_type": "stream",
     "text": [
      "              precision    recall  f1-score   support\n",
      "\n",
      "           0       0.00      0.00      0.00         3\n",
      "           1       0.44      0.50      0.47         8\n",
      "           2       0.50      0.50      0.50        12\n",
      "\n",
      "    accuracy                           0.43        23\n",
      "   macro avg       0.31      0.33      0.32        23\n",
      "weighted avg       0.42      0.43      0.42        23\n",
      "\n"
     ]
    }
   ],
   "source": [
    "from sklearn.ensemble import GradientBoostingClassifier\n",
    "\n",
    "# Initialize the Gradient Boosting classifier\n",
    "gb_classifier = GradientBoostingClassifier()\n",
    "\n",
    "# Train the classifier using the TF-IDF vectors and corresponding labels\n",
    "gb_classifier.fit(tfidf_train_vectors, y_train)\n",
    "\n",
    "# Predict using the trained classifier\n",
    "y_pred_gb = gb_classifier.predict(tfidf_test_vectors)\n",
    "\n",
    "# Print classification report\n",
    "print(classification_report(y_test, y_pred_gb))\n"
   ]
  },
  {
   "cell_type": "code",
   "execution_count": null,
   "metadata": {},
   "outputs": [],
   "source": [
    "mlp"
   ]
  },
  {
   "cell_type": "code",
   "execution_count": 19,
   "metadata": {},
   "outputs": [
    {
     "name": "stdout",
     "output_type": "stream",
     "text": [
      "              precision    recall  f1-score   support\n",
      "\n",
      "           0       0.00      0.00      0.00         3\n",
      "           1       0.78      0.88      0.82         8\n",
      "           2       0.79      0.92      0.85        12\n",
      "\n",
      "    accuracy                           0.78        23\n",
      "   macro avg       0.52      0.60      0.56        23\n",
      "weighted avg       0.68      0.78      0.73        23\n",
      "\n"
     ]
    },
    {
     "name": "stderr",
     "output_type": "stream",
     "text": [
      "C:\\Users\\pirat\\anaconda3\\Lib\\site-packages\\sklearn\\neural_network\\_multilayer_perceptron.py:691: ConvergenceWarning: Stochastic Optimizer: Maximum iterations (200) reached and the optimization hasn't converged yet.\n",
      "  warnings.warn(\n",
      "C:\\Users\\pirat\\anaconda3\\Lib\\site-packages\\sklearn\\metrics\\_classification.py:1469: UndefinedMetricWarning: Precision and F-score are ill-defined and being set to 0.0 in labels with no predicted samples. Use `zero_division` parameter to control this behavior.\n",
      "  _warn_prf(average, modifier, msg_start, len(result))\n",
      "C:\\Users\\pirat\\anaconda3\\Lib\\site-packages\\sklearn\\metrics\\_classification.py:1469: UndefinedMetricWarning: Precision and F-score are ill-defined and being set to 0.0 in labels with no predicted samples. Use `zero_division` parameter to control this behavior.\n",
      "  _warn_prf(average, modifier, msg_start, len(result))\n",
      "C:\\Users\\pirat\\anaconda3\\Lib\\site-packages\\sklearn\\metrics\\_classification.py:1469: UndefinedMetricWarning: Precision and F-score are ill-defined and being set to 0.0 in labels with no predicted samples. Use `zero_division` parameter to control this behavior.\n",
      "  _warn_prf(average, modifier, msg_start, len(result))\n"
     ]
    }
   ],
   "source": [
    "from sklearn.neural_network import MLPClassifier\n",
    "\n",
    "# Initialize the Multilayer Perceptron classifier\n",
    "mlp_classifier = MLPClassifier()\n",
    "\n",
    "# Train the classifier using the TF-IDF vectors and corresponding labels\n",
    "mlp_classifier.fit(tfidf_train_vectors, y_train)\n",
    "\n",
    "# Predict using the trained classifier\n",
    "y_pred_mlp = mlp_classifier.predict(tfidf_test_vectors)\n",
    "\n",
    "# Print classification report\n",
    "print(classification_report(y_test, y_pred_mlp))"
   ]
  },
  {
   "cell_type": "code",
   "execution_count": null,
   "metadata": {},
   "outputs": [],
   "source": [
    "gnb"
   ]
  },
  {
   "cell_type": "code",
   "execution_count": 20,
   "metadata": {},
   "outputs": [
    {
     "name": "stdout",
     "output_type": "stream",
     "text": [
      "              precision    recall  f1-score   support\n",
      "\n",
      "           0       0.00      0.00      0.00         3\n",
      "           1       0.83      0.62      0.71         8\n",
      "           2       0.71      1.00      0.83        12\n",
      "\n",
      "    accuracy                           0.74        23\n",
      "   macro avg       0.51      0.54      0.51        23\n",
      "weighted avg       0.66      0.74      0.68        23\n",
      "\n"
     ]
    },
    {
     "name": "stderr",
     "output_type": "stream",
     "text": [
      "C:\\Users\\pirat\\anaconda3\\Lib\\site-packages\\sklearn\\metrics\\_classification.py:1469: UndefinedMetricWarning: Precision and F-score are ill-defined and being set to 0.0 in labels with no predicted samples. Use `zero_division` parameter to control this behavior.\n",
      "  _warn_prf(average, modifier, msg_start, len(result))\n",
      "C:\\Users\\pirat\\anaconda3\\Lib\\site-packages\\sklearn\\metrics\\_classification.py:1469: UndefinedMetricWarning: Precision and F-score are ill-defined and being set to 0.0 in labels with no predicted samples. Use `zero_division` parameter to control this behavior.\n",
      "  _warn_prf(average, modifier, msg_start, len(result))\n",
      "C:\\Users\\pirat\\anaconda3\\Lib\\site-packages\\sklearn\\metrics\\_classification.py:1469: UndefinedMetricWarning: Precision and F-score are ill-defined and being set to 0.0 in labels with no predicted samples. Use `zero_division` parameter to control this behavior.\n",
      "  _warn_prf(average, modifier, msg_start, len(result))\n"
     ]
    }
   ],
   "source": [
    "from sklearn.naive_bayes import GaussianNB\n",
    "\n",
    "# Initialize the Gaussian Naive Bayes classifier\n",
    "nb_classifier = GaussianNB()\n",
    "\n",
    "# Train the classifier using the TF-IDF vectors and corresponding labels\n",
    "nb_classifier.fit(tfidf_train_vectors.toarray(), y_train)\n",
    "\n",
    "# Predict using the trained classifier\n",
    "y_pred_nb = nb_classifier.predict(tfidf_test_vectors.toarray())\n",
    "\n",
    "# Print classification report\n",
    "print(classification_report(y_test, y_pred_nb))\n"
   ]
  },
  {
   "cell_type": "code",
   "execution_count": null,
   "metadata": {},
   "outputs": [],
   "source": [
    "PassiveAggresive"
   ]
  },
  {
   "cell_type": "code",
   "execution_count": 21,
   "metadata": {},
   "outputs": [
    {
     "name": "stdout",
     "output_type": "stream",
     "text": [
      "              precision    recall  f1-score   support\n",
      "\n",
      "           0       0.00      0.00      0.00         3\n",
      "           1       0.60      0.75      0.67         8\n",
      "           2       0.69      0.75      0.72        12\n",
      "\n",
      "    accuracy                           0.65        23\n",
      "   macro avg       0.43      0.50      0.46        23\n",
      "weighted avg       0.57      0.65      0.61        23\n",
      "\n"
     ]
    },
    {
     "name": "stderr",
     "output_type": "stream",
     "text": [
      "C:\\Users\\pirat\\anaconda3\\Lib\\site-packages\\sklearn\\metrics\\_classification.py:1469: UndefinedMetricWarning: Precision and F-score are ill-defined and being set to 0.0 in labels with no predicted samples. Use `zero_division` parameter to control this behavior.\n",
      "  _warn_prf(average, modifier, msg_start, len(result))\n",
      "C:\\Users\\pirat\\anaconda3\\Lib\\site-packages\\sklearn\\metrics\\_classification.py:1469: UndefinedMetricWarning: Precision and F-score are ill-defined and being set to 0.0 in labels with no predicted samples. Use `zero_division` parameter to control this behavior.\n",
      "  _warn_prf(average, modifier, msg_start, len(result))\n",
      "C:\\Users\\pirat\\anaconda3\\Lib\\site-packages\\sklearn\\metrics\\_classification.py:1469: UndefinedMetricWarning: Precision and F-score are ill-defined and being set to 0.0 in labels with no predicted samples. Use `zero_division` parameter to control this behavior.\n",
      "  _warn_prf(average, modifier, msg_start, len(result))\n"
     ]
    }
   ],
   "source": [
    "from sklearn.linear_model import PassiveAggressiveClassifier\n",
    "\n",
    "# Initialize the Passive Aggressive Classifier\n",
    "pa_classifier = PassiveAggressiveClassifier()\n",
    "\n",
    "# Train the classifier using the TF-IDF vectors and corresponding labels\n",
    "pa_classifier.fit(tfidf_train_vectors, y_train)\n",
    "\n",
    "# Predict using the trained classifier\n",
    "y_pred_pa = pa_classifier.predict(tfidf_test_vectors)\n",
    "\n",
    "# Print classification report\n",
    "print(classification_report(y_test, y_pred_pa))\n"
   ]
  },
  {
   "cell_type": "code",
   "execution_count": null,
   "metadata": {},
   "outputs": [],
   "source": [
    "adaboost"
   ]
  },
  {
   "cell_type": "code",
   "execution_count": 22,
   "metadata": {},
   "outputs": [
    {
     "name": "stdout",
     "output_type": "stream",
     "text": [
      "              precision    recall  f1-score   support\n",
      "\n",
      "           0       0.00      0.00      0.00         3\n",
      "           1       0.50      0.50      0.50         8\n",
      "           2       0.67      0.83      0.74        12\n",
      "\n",
      "    accuracy                           0.61        23\n",
      "   macro avg       0.39      0.44      0.41        23\n",
      "weighted avg       0.52      0.61      0.56        23\n",
      "\n"
     ]
    },
    {
     "name": "stderr",
     "output_type": "stream",
     "text": [
      "C:\\Users\\pirat\\anaconda3\\Lib\\site-packages\\sklearn\\metrics\\_classification.py:1469: UndefinedMetricWarning: Precision and F-score are ill-defined and being set to 0.0 in labels with no predicted samples. Use `zero_division` parameter to control this behavior.\n",
      "  _warn_prf(average, modifier, msg_start, len(result))\n",
      "C:\\Users\\pirat\\anaconda3\\Lib\\site-packages\\sklearn\\metrics\\_classification.py:1469: UndefinedMetricWarning: Precision and F-score are ill-defined and being set to 0.0 in labels with no predicted samples. Use `zero_division` parameter to control this behavior.\n",
      "  _warn_prf(average, modifier, msg_start, len(result))\n",
      "C:\\Users\\pirat\\anaconda3\\Lib\\site-packages\\sklearn\\metrics\\_classification.py:1469: UndefinedMetricWarning: Precision and F-score are ill-defined and being set to 0.0 in labels with no predicted samples. Use `zero_division` parameter to control this behavior.\n",
      "  _warn_prf(average, modifier, msg_start, len(result))\n"
     ]
    }
   ],
   "source": [
    "from sklearn.ensemble import AdaBoostClassifier\n",
    "\n",
    "# Initialize the AdaBoost Classifier\n",
    "adaboost_classifier = AdaBoostClassifier()\n",
    "\n",
    "# Train the classifier using the TF-IDF vectors and corresponding labels\n",
    "adaboost_classifier.fit(tfidf_train_vectors, y_train)\n",
    "\n",
    "# Predict using the trained classifier\n",
    "y_pred_adaboost = adaboost_classifier.predict(tfidf_test_vectors)\n",
    "\n",
    "# Print classification report\n",
    "print(classification_report(y_test, y_pred_adaboost))"
   ]
  },
  {
   "cell_type": "code",
   "execution_count": null,
   "metadata": {},
   "outputs": [],
   "source": [
    "QuadraticDiscriminantAnalysis"
   ]
  },
  {
   "cell_type": "code",
   "execution_count": 23,
   "metadata": {},
   "outputs": [
    {
     "name": "stdout",
     "output_type": "stream",
     "text": [
      "              precision    recall  f1-score   support\n",
      "\n",
      "           0       0.50      0.33      0.40         3\n",
      "           1       0.50      0.62      0.56         8\n",
      "           2       0.73      0.67      0.70        12\n",
      "\n",
      "    accuracy                           0.61        23\n",
      "   macro avg       0.58      0.54      0.55        23\n",
      "weighted avg       0.62      0.61      0.61        23\n",
      "\n"
     ]
    },
    {
     "name": "stderr",
     "output_type": "stream",
     "text": [
      "C:\\Users\\pirat\\anaconda3\\Lib\\site-packages\\sklearn\\discriminant_analysis.py:935: UserWarning: Variables are collinear\n",
      "  warnings.warn(\"Variables are collinear\")\n"
     ]
    }
   ],
   "source": [
    "from sklearn.discriminant_analysis import QuadraticDiscriminantAnalysis\n",
    "\n",
    "# Initialize the Quadratic Discriminant Analysis (QDA) classifier\n",
    "qda_classifier = QuadraticDiscriminantAnalysis()\n",
    "\n",
    "# Train the classifier using the TF-IDF vectors and corresponding labels\n",
    "qda_classifier.fit(tfidf_train_vectors.toarray(), y_train)\n",
    "\n",
    "# Predict using the trained classifier\n",
    "y_pred_qda = qda_classifier.predict(tfidf_test_vectors.toarray())\n",
    "\n",
    "# Print classification report\n",
    "print(classification_report(y_test, y_pred_qda))"
   ]
  },
  {
   "cell_type": "code",
   "execution_count": null,
   "metadata": {},
   "outputs": [],
   "source": [
    "LinearDiscriminantAnalysis"
   ]
  },
  {
   "cell_type": "code",
   "execution_count": 24,
   "metadata": {},
   "outputs": [
    {
     "name": "stdout",
     "output_type": "stream",
     "text": [
      "              precision    recall  f1-score   support\n",
      "\n",
      "           0       0.00      0.00      0.00         3\n",
      "           1       0.33      0.12      0.18         8\n",
      "           2       0.55      0.92      0.69        12\n",
      "\n",
      "    accuracy                           0.52        23\n",
      "   macro avg       0.29      0.35      0.29        23\n",
      "weighted avg       0.40      0.52      0.42        23\n",
      "\n"
     ]
    },
    {
     "name": "stderr",
     "output_type": "stream",
     "text": [
      "C:\\Users\\pirat\\anaconda3\\Lib\\site-packages\\sklearn\\metrics\\_classification.py:1469: UndefinedMetricWarning: Precision and F-score are ill-defined and being set to 0.0 in labels with no predicted samples. Use `zero_division` parameter to control this behavior.\n",
      "  _warn_prf(average, modifier, msg_start, len(result))\n",
      "C:\\Users\\pirat\\anaconda3\\Lib\\site-packages\\sklearn\\metrics\\_classification.py:1469: UndefinedMetricWarning: Precision and F-score are ill-defined and being set to 0.0 in labels with no predicted samples. Use `zero_division` parameter to control this behavior.\n",
      "  _warn_prf(average, modifier, msg_start, len(result))\n",
      "C:\\Users\\pirat\\anaconda3\\Lib\\site-packages\\sklearn\\metrics\\_classification.py:1469: UndefinedMetricWarning: Precision and F-score are ill-defined and being set to 0.0 in labels with no predicted samples. Use `zero_division` parameter to control this behavior.\n",
      "  _warn_prf(average, modifier, msg_start, len(result))\n"
     ]
    }
   ],
   "source": [
    "from sklearn.discriminant_analysis import LinearDiscriminantAnalysis\n",
    "\n",
    "# Initialize the Linear Discriminant Analysis (LDA) classifier\n",
    "lda_classifier = LinearDiscriminantAnalysis()\n",
    "\n",
    "# Train the classifier using the TF-IDF vectors and corresponding labels\n",
    "lda_classifier.fit(tfidf_train_vectors.toarray(), y_train)\n",
    "\n",
    "# Predict using the trained classifier\n",
    "y_pred_lda = lda_classifier.predict(tfidf_test_vectors.toarray())\n",
    "\n",
    "# Print classification report\n",
    "print(classification_report(y_test, y_pred_lda))\n"
   ]
  },
  {
   "cell_type": "code",
   "execution_count": null,
   "metadata": {},
   "outputs": [],
   "source": []
  },
  {
   "cell_type": "code",
   "execution_count": 25,
   "metadata": {},
   "outputs": [
    {
     "ename": "ValueError",
     "evalue": "matrix shape must be two-dimensional",
     "output_type": "error",
     "traceback": [
      "\u001b[1;31m---------------------------------------------------------------------------\u001b[0m",
      "\u001b[1;31mValueError\u001b[0m                                Traceback (most recent call last)",
      "Cell \u001b[1;32mIn[25], line 49\u001b[0m\n\u001b[0;32m     46\u001b[0m tfidf_test_vectors \u001b[38;5;241m=\u001b[39m tfidf_vectorizer\u001b[38;5;241m.\u001b[39mtransform(X_test)\n\u001b[0;32m     48\u001b[0m \u001b[38;5;66;03m# Reshape TF-IDF vectors to fit the Conv1D input shape\u001b[39;00m\n\u001b[1;32m---> 49\u001b[0m tfidf_train_vectors \u001b[38;5;241m=\u001b[39m tfidf_train_vectors\u001b[38;5;241m.\u001b[39mreshape((tfidf_train_vectors\u001b[38;5;241m.\u001b[39mshape[\u001b[38;5;241m0\u001b[39m], tfidf_train_vectors\u001b[38;5;241m.\u001b[39mshape[\u001b[38;5;241m1\u001b[39m], \u001b[38;5;241m1\u001b[39m))\n\u001b[0;32m     50\u001b[0m tfidf_test_vectors \u001b[38;5;241m=\u001b[39m tfidf_test_vectors\u001b[38;5;241m.\u001b[39mreshape((tfidf_test_vectors\u001b[38;5;241m.\u001b[39mshape[\u001b[38;5;241m0\u001b[39m], tfidf_test_vectors\u001b[38;5;241m.\u001b[39mshape[\u001b[38;5;241m1\u001b[39m], \u001b[38;5;241m1\u001b[39m))\n\u001b[0;32m     52\u001b[0m \u001b[38;5;66;03m# Define the CNN model architecture\u001b[39;00m\n",
      "File \u001b[1;32m~\\anaconda3\\Lib\\site-packages\\scipy\\sparse\\_base.py:158\u001b[0m, in \u001b[0;36mspmatrix.reshape\u001b[1;34m(self, *args, **kwargs)\u001b[0m\n\u001b[0;32m    126\u001b[0m \u001b[38;5;250m\u001b[39m\u001b[38;5;124;03m\"\"\"reshape(self, shape, order='C', copy=False)\u001b[39;00m\n\u001b[0;32m    127\u001b[0m \n\u001b[0;32m    128\u001b[0m \u001b[38;5;124;03mGives a new shape to a sparse matrix without changing its data.\u001b[39;00m\n\u001b[1;32m   (...)\u001b[0m\n\u001b[0;32m    154\u001b[0m \u001b[38;5;124;03m                       matrices\u001b[39;00m\n\u001b[0;32m    155\u001b[0m \u001b[38;5;124;03m\"\"\"\u001b[39;00m\n\u001b[0;32m    156\u001b[0m \u001b[38;5;66;03m# If the shape already matches, don't bother doing an actual reshape\u001b[39;00m\n\u001b[0;32m    157\u001b[0m \u001b[38;5;66;03m# Otherwise, the default is to convert to COO and use its reshape\u001b[39;00m\n\u001b[1;32m--> 158\u001b[0m shape \u001b[38;5;241m=\u001b[39m check_shape(args, \u001b[38;5;28mself\u001b[39m\u001b[38;5;241m.\u001b[39mshape)\n\u001b[0;32m    159\u001b[0m order, copy \u001b[38;5;241m=\u001b[39m check_reshape_kwargs(kwargs)\n\u001b[0;32m    160\u001b[0m \u001b[38;5;28;01mif\u001b[39;00m shape \u001b[38;5;241m==\u001b[39m \u001b[38;5;28mself\u001b[39m\u001b[38;5;241m.\u001b[39mshape:\n",
      "File \u001b[1;32m~\\anaconda3\\Lib\\site-packages\\scipy\\sparse\\_sputils.py:340\u001b[0m, in \u001b[0;36mcheck_shape\u001b[1;34m(args, current_shape)\u001b[0m\n\u001b[0;32m    337\u001b[0m         \u001b[38;5;28;01mraise\u001b[39;00m \u001b[38;5;167;01mValueError\u001b[39;00m(\u001b[38;5;124m'\u001b[39m\u001b[38;5;124mcan only specify one unknown dimension\u001b[39m\u001b[38;5;124m'\u001b[39m)\n\u001b[0;32m    339\u001b[0m \u001b[38;5;28;01mif\u001b[39;00m \u001b[38;5;28mlen\u001b[39m(new_shape) \u001b[38;5;241m!=\u001b[39m \u001b[38;5;241m2\u001b[39m:\n\u001b[1;32m--> 340\u001b[0m     \u001b[38;5;28;01mraise\u001b[39;00m \u001b[38;5;167;01mValueError\u001b[39;00m(\u001b[38;5;124m'\u001b[39m\u001b[38;5;124mmatrix shape must be two-dimensional\u001b[39m\u001b[38;5;124m'\u001b[39m)\n\u001b[0;32m    342\u001b[0m \u001b[38;5;28;01mreturn\u001b[39;00m new_shape\n",
      "\u001b[1;31mValueError\u001b[0m: matrix shape must be two-dimensional"
     ]
    }
   ],
   "source": [
    "import numpy as np\n",
    "import pandas as pd\n",
    "from tqdm import tqdm\n",
    "import re\n",
    "import string\n",
    "import nltk\n",
    "from nltk.corpus import stopwords\n",
    "from nltk.stem import WordNetLemmatizer  \n",
    "from sklearn.model_selection import train_test_split\n",
    "from sklearn.feature_extraction.text import TfidfVectorizer\n",
    "from sklearn.metrics import classification_report\n",
    "import tensorflow as tf\n",
    "from tensorflow.keras.models import Sequential\n",
    "from tensorflow.keras.layers import Dense, Dropout, Conv1D, MaxPooling1D, GlobalMaxPooling1D\n",
    "from tensorflow.keras.optimizers import Adam\n",
    "\n",
    "# Load the dataset\n",
    "df = pd.read_csv('train.csv')\n",
    "\n",
    "# Map sentiment labels to numerical values\n",
    "mapping = {'bad': 0, 'good': 1, 'very good': 2}\n",
    "df['Type'] = df['Type'].map(mapping)\n",
    "\n",
    "# Define a function to clean text data\n",
    "def clean_text(text):\n",
    "    emoji_pattern = re.compile(\"[\"\n",
    "                           u\"\\U0001F600-\\U0001F64F\"  # emoticons\n",
    "                           u\"\\U0001F300-\\U0001F5FF\"  # symbols & pictographs\n",
    "                           u\"\\U0001F680-\\U0001F6FF\"  # transport & map symbols\n",
    "                           u\"\\U0001F1E0-\\U0001F1FF\"  # flags (iOS)\n",
    "                           u\"\\U00002702-\\U000027B0\"\n",
    "                           u\"\\U000024C2-\\U0001F251\"\n",
    "                           \"]+\", flags=re.UNICODE)\n",
    "    text = emoji_pattern.sub(r'', text) # Removing emojis\n",
    "    return text\n",
    "\n",
    "# Clean the text data\n",
    "df['Review'] = df['Review'].apply(lambda x: clean_text(x))\n",
    "\n",
    "# Split the dataset into training and testing sets\n",
    "X_train, X_test, y_train, y_test = train_test_split(df['Review'].values, df['Type'].values, test_size=0.2, random_state=12, stratify=df['Type'].values)\n",
    "\n",
    "# Vectorize text data using TF-IDF\n",
    "tfidf_vectorizer = TfidfVectorizer()\n",
    "tfidf_train_vectors = tfidf_vectorizer.fit_transform(X_train)\n",
    "tfidf_test_vectors = tfidf_vectorizer.transform(X_test)\n",
    "\n",
    "# Reshape TF-IDF vectors to fit the Conv1D input shape\n",
    "tfidf_train_vectors = tfidf_train_vectors.reshape((tfidf_train_vectors.shape[0], tfidf_train_vectors.shape[1], 1))\n",
    "tfidf_test_vectors = tfidf_test_vectors.reshape((tfidf_test_vectors.shape[0], tfidf_test_vectors.shape[1], 1))\n",
    "\n",
    "# Define the CNN model architecture\n",
    "model = Sequential([\n",
    "    Conv1D(128, 5, activation='relu', input_shape=(tfidf_train_vectors.shape[1], 1)),\n",
    "    MaxPooling1D(5),\n",
    "    Conv1D(128, 5, activation='relu'),\n",
    "    MaxPooling1D(5),\n",
    "    GlobalMaxPooling1D(),\n",
    "    Dense(128, activation='relu'),\n",
    "    Dropout(0.5),\n",
    "    Dense(3, activation='softmax')  # Output layer with softmax activation for multi-class classification\n",
    "])\n",
    "\n",
    "# Compile the model\n",
    "model.compile(optimizer=Adam(), loss='sparse_categorical_crossentropy', metrics=['accuracy'])\n",
    "\n",
    "# Train the model\n",
    "model.fit(tfidf_train_vectors, y_train, epochs=5, batch_size=64, validation_split=0.1)\n",
    "\n",
    "# Evaluate the model\n",
    "loss, accuracy = model.evaluate(tfidf_test_vectors, y_test)\n",
    "print(f'Test Loss: {loss}, Test Accuracy: {accuracy}')\n",
    "\n",
    "# Predict using the trained model\n",
    "y_pred = np.argmax(model.predict(tfidf_test_vectors), axis=-1)\n",
    "\n",
    "# Print classification report\n",
    "print(classification_report(y_test, y_pred))\n"
   ]
  },
  {
   "cell_type": "code",
   "execution_count": 26,
   "metadata": {},
   "outputs": [
    {
     "name": "stdout",
     "output_type": "stream",
     "text": [
      "Epoch 1/5\n",
      "2/2 [==============================] - 1s 227ms/step - loss: 1.0943 - accuracy: 0.4568 - val_loss: 1.0629 - val_accuracy: 0.6000\n",
      "Epoch 2/5\n",
      "2/2 [==============================] - 0s 53ms/step - loss: 1.0680 - accuracy: 0.5062 - val_loss: 1.0334 - val_accuracy: 0.6000\n",
      "Epoch 3/5\n",
      "2/2 [==============================] - 0s 47ms/step - loss: 1.0432 - accuracy: 0.5062 - val_loss: 1.0017 - val_accuracy: 0.6000\n",
      "Epoch 4/5\n",
      "2/2 [==============================] - 0s 62ms/step - loss: 1.0302 - accuracy: 0.5062 - val_loss: 0.9697 - val_accuracy: 0.6000\n",
      "Epoch 5/5\n",
      "2/2 [==============================] - 0s 49ms/step - loss: 1.0211 - accuracy: 0.5062 - val_loss: 0.9425 - val_accuracy: 0.6000\n",
      "1/1 [==============================] - 0s 26ms/step - loss: 0.9815 - accuracy: 0.5217\n",
      "Test Loss: 0.9814775586128235, Test Accuracy: 0.52173912525177\n",
      "1/1 [==============================] - 0s 111ms/step\n",
      "              precision    recall  f1-score   support\n",
      "\n",
      "           0       0.00      0.00      0.00         3\n",
      "           1       0.00      0.00      0.00         8\n",
      "           2       0.52      1.00      0.69        12\n",
      "\n",
      "    accuracy                           0.52        23\n",
      "   macro avg       0.17      0.33      0.23        23\n",
      "weighted avg       0.27      0.52      0.36        23\n",
      "\n"
     ]
    },
    {
     "name": "stderr",
     "output_type": "stream",
     "text": [
      "C:\\Users\\pirat\\anaconda3\\Lib\\site-packages\\sklearn\\metrics\\_classification.py:1469: UndefinedMetricWarning: Precision and F-score are ill-defined and being set to 0.0 in labels with no predicted samples. Use `zero_division` parameter to control this behavior.\n",
      "  _warn_prf(average, modifier, msg_start, len(result))\n",
      "C:\\Users\\pirat\\anaconda3\\Lib\\site-packages\\sklearn\\metrics\\_classification.py:1469: UndefinedMetricWarning: Precision and F-score are ill-defined and being set to 0.0 in labels with no predicted samples. Use `zero_division` parameter to control this behavior.\n",
      "  _warn_prf(average, modifier, msg_start, len(result))\n",
      "C:\\Users\\pirat\\anaconda3\\Lib\\site-packages\\sklearn\\metrics\\_classification.py:1469: UndefinedMetricWarning: Precision and F-score are ill-defined and being set to 0.0 in labels with no predicted samples. Use `zero_division` parameter to control this behavior.\n",
      "  _warn_prf(average, modifier, msg_start, len(result))\n"
     ]
    }
   ],
   "source": [
    "import numpy as np\n",
    "import pandas as pd\n",
    "import re\n",
    "import string\n",
    "import nltk\n",
    "from nltk.corpus import stopwords\n",
    "from sklearn.model_selection import train_test_split\n",
    "from sklearn.feature_extraction.text import TfidfVectorizer\n",
    "from sklearn.metrics import classification_report\n",
    "import tensorflow as tf\n",
    "from tensorflow.keras.models import Sequential\n",
    "from tensorflow.keras.layers import Dense, Dropout, Conv1D, MaxPooling1D, GlobalMaxPooling1D\n",
    "from tensorflow.keras.optimizers import Adam\n",
    "\n",
    "# Load the dataset\n",
    "df = pd.read_csv('train.csv')\n",
    "\n",
    "# Map sentiment labels to numerical values\n",
    "mapping = {'bad': 0, 'good': 1, 'very good': 2}\n",
    "df['Type'] = df['Type'].map(mapping)\n",
    "\n",
    "# Define a function to clean text data\n",
    "def clean_text(text):\n",
    "    emoji_pattern = re.compile(\"[\"\n",
    "                           u\"\\U0001F600-\\U0001F64F\"  # emoticons\n",
    "                           u\"\\U0001F300-\\U0001F5FF\"  # symbols & pictographs\n",
    "                           u\"\\U0001F680-\\U0001F6FF\"  # transport & map symbols\n",
    "                           u\"\\U0001F1E0-\\U0001F1FF\"  # flags (iOS)\n",
    "                           u\"\\U00002702-\\U000027B0\"\n",
    "                           u\"\\U000024C2-\\U0001F251\"\n",
    "                           \"]+\", flags=re.UNICODE)\n",
    "    text = emoji_pattern.sub(r'', text) # Removing emojis\n",
    "    return text\n",
    "\n",
    "# Clean the text data\n",
    "df['Review'] = df['Review'].apply(lambda x: clean_text(x))\n",
    "\n",
    "# Split the dataset into training and testing sets\n",
    "X_train, X_test, y_train, y_test = train_test_split(df['Review'].values, df['Type'].values, test_size=0.2, random_state=12, stratify=df['Type'].values)\n",
    "\n",
    "# Vectorize text data using TF-IDF\n",
    "tfidf_vectorizer = TfidfVectorizer()\n",
    "tfidf_train_vectors = tfidf_vectorizer.fit_transform(X_train)\n",
    "tfidf_test_vectors = tfidf_vectorizer.transform(X_test)\n",
    "\n",
    "# Convert TF-IDF vectors to dense arrays\n",
    "tfidf_train_vectors = tfidf_train_vectors.toarray()\n",
    "tfidf_test_vectors = tfidf_test_vectors.toarray()\n",
    "\n",
    "# Reshape TF-IDF vectors to fit the Conv1D input shape\n",
    "tfidf_train_vectors = tfidf_train_vectors.reshape((tfidf_train_vectors.shape[0], tfidf_train_vectors.shape[1], 1))\n",
    "tfidf_test_vectors = tfidf_test_vectors.reshape((tfidf_test_vectors.shape[0], tfidf_test_vectors.shape[1], 1))\n",
    "\n",
    "# Define the CNN model architecture\n",
    "model = Sequential([\n",
    "    Conv1D(128, 5, activation='relu', input_shape=(tfidf_train_vectors.shape[1], 1)),\n",
    "    MaxPooling1D(5),\n",
    "    Conv1D(128, 5, activation='relu'),\n",
    "    MaxPooling1D(5),\n",
    "    GlobalMaxPooling1D(),\n",
    "    Dense(128, activation='relu'),\n",
    "    Dropout(0.5),\n",
    "    Dense(3, activation='softmax')  # Output layer with softmax activation for multi-class classification\n",
    "])\n",
    "\n",
    "# Compile the model\n",
    "model.compile(optimizer=Adam(), loss='sparse_categorical_crossentropy', metrics=['accuracy'])\n",
    "\n",
    "# Train the model\n",
    "model.fit(tfidf_train_vectors, y_train, epochs=5, batch_size=64, validation_split=0.1)\n",
    "\n",
    "# Evaluate the model\n",
    "loss, accuracy = model.evaluate(tfidf_test_vectors, y_test)\n",
    "print(f'Test Loss: {loss}, Test Accuracy: {accuracy}')\n",
    "\n",
    "# Predict using the trained model\n",
    "y_pred = np.argmax(model.predict(tfidf_test_vectors), axis=-1)\n",
    "\n",
    "# Print classification report\n",
    "print(classification_report(y_test, y_pred))\n"
   ]
  },
  {
   "cell_type": "code",
   "execution_count": 27,
   "metadata": {},
   "outputs": [
    {
     "name": "stdout",
     "output_type": "stream",
     "text": [
      "Epoch 1/10\n",
      "2/2 [==============================] - 1s 235ms/step - loss: 1.0988 - accuracy: 0.3086 - val_loss: 1.0795 - val_accuracy: 0.6000\n",
      "Epoch 2/10\n",
      "2/2 [==============================] - 0s 86ms/step - loss: 1.0813 - accuracy: 0.5309 - val_loss: 1.0454 - val_accuracy: 0.6000\n",
      "Epoch 3/10\n",
      "2/2 [==============================] - 0s 85ms/step - loss: 1.0591 - accuracy: 0.5185 - val_loss: 0.9953 - val_accuracy: 0.6000\n",
      "Epoch 4/10\n",
      "2/2 [==============================] - 0s 83ms/step - loss: 1.0288 - accuracy: 0.5309 - val_loss: 0.9414 - val_accuracy: 0.6000\n",
      "Epoch 5/10\n",
      "2/2 [==============================] - 0s 85ms/step - loss: 0.9836 - accuracy: 0.5309 - val_loss: 0.9101 - val_accuracy: 0.6000\n",
      "Epoch 6/10\n",
      "2/2 [==============================] - 0s 84ms/step - loss: 1.0261 - accuracy: 0.5185 - val_loss: 0.9114 - val_accuracy: 0.6000\n",
      "Epoch 7/10\n",
      "2/2 [==============================] - 0s 95ms/step - loss: 1.0466 - accuracy: 0.5432 - val_loss: 0.9101 - val_accuracy: 0.6000\n",
      "Epoch 8/10\n",
      "2/2 [==============================] - 0s 90ms/step - loss: 0.9763 - accuracy: 0.4568 - val_loss: 0.9204 - val_accuracy: 0.6000\n",
      "Epoch 9/10\n",
      "2/2 [==============================] - 0s 85ms/step - loss: 0.9895 - accuracy: 0.5185 - val_loss: 0.9351 - val_accuracy: 0.6000\n",
      "Epoch 10/10\n",
      "2/2 [==============================] - 0s 84ms/step - loss: 1.0004 - accuracy: 0.4815 - val_loss: 0.9526 - val_accuracy: 0.6000\n",
      "1/1 [==============================] - 0s 40ms/step - loss: 0.9802 - accuracy: 0.5217\n",
      "Test Loss: 0.9802049398422241, Test Accuracy: 0.52173912525177\n",
      "1/1 [==============================] - 0s 105ms/step\n",
      "              precision    recall  f1-score   support\n",
      "\n",
      "           0       0.00      0.00      0.00         3\n",
      "           1       0.00      0.00      0.00         8\n",
      "           2       0.52      1.00      0.69        12\n",
      "\n",
      "    accuracy                           0.52        23\n",
      "   macro avg       0.17      0.33      0.23        23\n",
      "weighted avg       0.27      0.52      0.36        23\n",
      "\n"
     ]
    },
    {
     "name": "stderr",
     "output_type": "stream",
     "text": [
      "C:\\Users\\pirat\\anaconda3\\Lib\\site-packages\\sklearn\\metrics\\_classification.py:1469: UndefinedMetricWarning: Precision and F-score are ill-defined and being set to 0.0 in labels with no predicted samples. Use `zero_division` parameter to control this behavior.\n",
      "  _warn_prf(average, modifier, msg_start, len(result))\n",
      "C:\\Users\\pirat\\anaconda3\\Lib\\site-packages\\sklearn\\metrics\\_classification.py:1469: UndefinedMetricWarning: Precision and F-score are ill-defined and being set to 0.0 in labels with no predicted samples. Use `zero_division` parameter to control this behavior.\n",
      "  _warn_prf(average, modifier, msg_start, len(result))\n",
      "C:\\Users\\pirat\\anaconda3\\Lib\\site-packages\\sklearn\\metrics\\_classification.py:1469: UndefinedMetricWarning: Precision and F-score are ill-defined and being set to 0.0 in labels with no predicted samples. Use `zero_division` parameter to control this behavior.\n",
      "  _warn_prf(average, modifier, msg_start, len(result))\n"
     ]
    }
   ],
   "source": [
    "import numpy as np\n",
    "import pandas as pd\n",
    "import re\n",
    "import string\n",
    "import nltk\n",
    "from nltk.corpus import stopwords\n",
    "from sklearn.model_selection import train_test_split\n",
    "from sklearn.feature_extraction.text import TfidfVectorizer\n",
    "from sklearn.metrics import classification_report\n",
    "import tensorflow as tf\n",
    "from tensorflow.keras.models import Sequential\n",
    "from tensorflow.keras.layers import Dense, Dropout, Conv1D, MaxPooling1D, GlobalMaxPooling1D\n",
    "from tensorflow.keras.optimizers import Adam\n",
    "\n",
    "# Load the dataset\n",
    "df = pd.read_csv('train.csv')\n",
    "\n",
    "# Map sentiment labels to numerical values\n",
    "mapping = {'bad': 0, 'good': 1, 'very good': 2}\n",
    "df['Type'] = df['Type'].map(mapping)\n",
    "\n",
    "# Define a function to clean text data\n",
    "def clean_text(text):\n",
    "    emoji_pattern = re.compile(\"[\"\n",
    "                           u\"\\U0001F600-\\U0001F64F\"  # emoticons\n",
    "                           u\"\\U0001F300-\\U0001F5FF\"  # symbols & pictographs\n",
    "                           u\"\\U0001F680-\\U0001F6FF\"  # transport & map symbols\n",
    "                           u\"\\U0001F1E0-\\U0001F1FF\"  # flags (iOS)\n",
    "                           u\"\\U00002702-\\U000027B0\"\n",
    "                           u\"\\U000024C2-\\U0001F251\"\n",
    "                           \"]+\", flags=re.UNICODE)\n",
    "    text = emoji_pattern.sub(r'', text) # Removing emojis\n",
    "    return text\n",
    "\n",
    "# Clean the text data\n",
    "df['Review'] = df['Review'].apply(lambda x: clean_text(x))\n",
    "\n",
    "# Split the dataset into training and testing sets\n",
    "X_train, X_test, y_train, y_test = train_test_split(df['Review'].values, df['Type'].values, test_size=0.2, random_state=12, stratify=df['Type'].values)\n",
    "\n",
    "# Vectorize text data using TF-IDF\n",
    "tfidf_vectorizer = TfidfVectorizer()\n",
    "tfidf_train_vectors = tfidf_vectorizer.fit_transform(X_train)\n",
    "tfidf_test_vectors = tfidf_vectorizer.transform(X_test)\n",
    "\n",
    "# Convert TF-IDF vectors to dense arrays\n",
    "tfidf_train_vectors = tfidf_train_vectors.toarray()\n",
    "tfidf_test_vectors = tfidf_test_vectors.toarray()\n",
    "\n",
    "# Reshape TF-IDF vectors to fit the Conv1D input shape\n",
    "tfidf_train_vectors = tfidf_train_vectors.reshape((tfidf_train_vectors.shape[0], tfidf_train_vectors.shape[1], 1))\n",
    "tfidf_test_vectors = tfidf_test_vectors.reshape((tfidf_test_vectors.shape[0], tfidf_test_vectors.shape[1], 1))\n",
    "\n",
    "# Define the CNN model architecture\n",
    "model = Sequential([\n",
    "    Conv1D(256, 5, activation='relu', input_shape=(tfidf_train_vectors.shape[1], 1)),\n",
    "    MaxPooling1D(5),\n",
    "    Conv1D(256, 5, activation='relu'),\n",
    "    MaxPooling1D(5),\n",
    "    Conv1D(128, 5, activation='relu'),\n",
    "    GlobalMaxPooling1D(),\n",
    "    Dense(256, activation='relu'),\n",
    "    Dropout(0.5),\n",
    "    Dense(128, activation='relu'),\n",
    "    Dropout(0.5),\n",
    "    Dense(3, activation='softmax')  # Output layer with softmax activation for multi-class classification\n",
    "])\n",
    "\n",
    "# Compile the model\n",
    "model.compile(optimizer=Adam(), loss='sparse_categorical_crossentropy', metrics=['accuracy'])\n",
    "\n",
    "# Train the model\n",
    "model.fit(tfidf_train_vectors, y_train, epochs=10, batch_size=64, validation_split=0.1)\n",
    "\n",
    "# Evaluate the model\n",
    "loss, accuracy = model.evaluate(tfidf_test_vectors, y_test)\n",
    "print(f'Test Loss: {loss}, Test Accuracy: {accuracy}')\n",
    "\n",
    "# Predict using the trained model\n",
    "y_pred = np.argmax(model.predict(tfidf_test_vectors), axis=-1)\n",
    "\n",
    "# Print classification report\n",
    "print(classification_report(y_test, y_pred))\n"
   ]
  },
  {
   "cell_type": "code",
   "execution_count": null,
   "metadata": {},
   "outputs": [
    {
     "name": "stdout",
     "output_type": "stream",
     "text": [
      "Epoch 1/10\n",
      "113/113 [==============================] - 593s 5s/step - loss: 1.1001 - accuracy: 0.3368 - val_loss: 1.0989 - val_accuracy: 0.3425\n",
      "Epoch 2/10\n",
      "113/113 [==============================] - 529s 5s/step - loss: 1.0988 - accuracy: 0.3313 - val_loss: 1.0991 - val_accuracy: 0.3162\n",
      "Epoch 3/10\n",
      " 69/113 [=================>............] - ETA: 3:09 - loss: 1.0987 - accuracy: 0.3471"
     ]
    }
   ],
   "source": [
    "import numpy as np\n",
    "import pandas as pd\n",
    "import re\n",
    "import string\n",
    "import nltk\n",
    "from nltk.corpus import stopwords\n",
    "from sklearn.model_selection import train_test_split\n",
    "from sklearn.feature_extraction.text import TfidfVectorizer\n",
    "from sklearn.metrics import classification_report\n",
    "import tensorflow as tf\n",
    "from tensorflow.keras.models import Sequential\n",
    "from tensorflow.keras.layers import Dense, Dropout, Conv1D, MaxPooling1D, GlobalMaxPooling1D\n",
    "from tensorflow.keras.optimizers import Adam\n",
    "\n",
    "# Set random seed for reproducibility\n",
    "np.random.seed(42)\n",
    "tf.random.set_seed(42)\n",
    "\n",
    "# Generate synthetic data\n",
    "num_samples = 10000\n",
    "reviews = []\n",
    "labels = []\n",
    "for _ in range(num_samples):\n",
    "    review = ''.join(np.random.choice(list(string.ascii_lowercase + ' '), np.random.randint(10, 100)))\n",
    "    rating = np.random.choice(['bad', 'good', 'very good'])\n",
    "    reviews.append(review)\n",
    "    labels.append(rating)\n",
    "\n",
    "df = pd.DataFrame({'Review': reviews, 'Type': labels})\n",
    "\n",
    "# Map sentiment labels to numerical values\n",
    "mapping = {'bad': 0, 'good': 1, 'very good': 2}\n",
    "df['Type'] = df['Type'].map(mapping)\n",
    "\n",
    "# Define a function to clean text data\n",
    "def clean_text(text):\n",
    "    emoji_pattern = re.compile(\"[\"\n",
    "                           u\"\\U0001F600-\\U0001F64F\"  # emoticons\n",
    "                           u\"\\U0001F300-\\U0001F5FF\"  # symbols & pictographs\n",
    "                           u\"\\U0001F680-\\U0001F6FF\"  # transport & map symbols\n",
    "                           u\"\\U0001F1E0-\\U0001F1FF\"  # flags (iOS)\n",
    "                           u\"\\U00002702-\\U000027B0\"\n",
    "                           u\"\\U000024C2-\\U0001F251\"\n",
    "                           \"]+\", flags=re.UNICODE)\n",
    "    text = emoji_pattern.sub(r'', text) # Removing emojis\n",
    "    return text\n",
    "\n",
    "# Clean the text data\n",
    "df['Review'] = df['Review'].apply(lambda x: clean_text(x))\n",
    "\n",
    "# Split the dataset into training and testing sets\n",
    "X_train, X_test, y_train, y_test = train_test_split(df['Review'].values, df['Type'].values, test_size=0.2, random_state=42, stratify=df['Type'].values)\n",
    "\n",
    "# Vectorize text data using TF-IDF\n",
    "tfidf_vectorizer = TfidfVectorizer()\n",
    "tfidf_train_vectors = tfidf_vectorizer.fit_transform(X_train)\n",
    "tfidf_test_vectors = tfidf_vectorizer.transform(X_test)\n",
    "\n",
    "# Convert TF-IDF vectors to dense arrays\n",
    "tfidf_train_vectors = tfidf_train_vectors.toarray()\n",
    "tfidf_test_vectors = tfidf_test_vectors.toarray()\n",
    "\n",
    "# Reshape TF-IDF vectors to fit the Conv1D input shape\n",
    "tfidf_train_vectors = tfidf_train_vectors.reshape((tfidf_train_vectors.shape[0], tfidf_train_vectors.shape[1], 1))\n",
    "tfidf_test_vectors = tfidf_test_vectors.reshape((tfidf_test_vectors.shape[0], tfidf_test_vectors.shape[1], 1))\n",
    "\n",
    "# Define the CNN model architecture\n",
    "model = Sequential([\n",
    "    Conv1D(256, 5, activation='relu', input_shape=(tfidf_train_vectors.shape[1], 1)),\n",
    "    MaxPooling1D(5),\n",
    "    Conv1D(256, 5, activation='relu'),\n",
    "    MaxPooling1D(5),\n",
    "    Conv1D(128, 5, activation='relu'),\n",
    "    GlobalMaxPooling1D(),\n",
    "    Dense(256, activation='relu'),\n",
    "    Dropout(0.5),\n",
    "    Dense(128, activation='relu'),\n",
    "    Dropout(0.5),\n",
    "    Dense(3, activation='softmax')\n",
    "])\n",
    "\n",
    "# Compile the model\n",
    "model.compile(optimizer=Adam(), loss='sparse_categorical_crossentropy', metrics=['accuracy'])\n",
    "\n",
    "# Train the model\n",
    "model.fit(tfidf_train_vectors, y_train, epochs=10, batch_size=64, validation_split=0.1)\n",
    "\n",
    "# Evaluate the model\n",
    "loss, accuracy = model.evaluate(tfidf_test_vectors, y_test)\n",
    "print(f'Test Loss: {loss}, Test Accuracy: {accuracy}')\n",
    "\n",
    "# Predict using the trained model\n",
    "y_pred = np.argmax(model.predict(tfidf_test_vectors), axis=-1)\n",
    "\n",
    "# Print classification report\n",
    "print(classification_report(y_test, y_pred))"
   ]
  },
  {
   "cell_type": "code",
   "execution_count": null,
   "metadata": {},
   "outputs": [],
   "source": []
  }
 ],
 "metadata": {
  "kernelspec": {
   "display_name": "Python 3 (ipykernel)",
   "language": "python",
   "name": "python3"
  },
  "language_info": {
   "codemirror_mode": {
    "name": "ipython",
    "version": 3
   },
   "file_extension": ".py",
   "mimetype": "text/x-python",
   "name": "python",
   "nbconvert_exporter": "python",
   "pygments_lexer": "ipython3",
   "version": "3.11.3"
  },
  "papermill": {
   "duration": 18.490117,
   "end_time": "2022-05-30T18:33:46.485630",
   "environment_variables": {},
   "exception": null,
   "input_path": "__notebook__.ipynb",
   "output_path": "__notebook__.ipynb",
   "parameters": {},
   "start_time": "2022-05-30T18:33:27.995513",
   "version": "2.1.0"
  }
 },
 "nbformat": 4,
 "nbformat_minor": 4
}
