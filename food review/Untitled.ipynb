{
 "cells": [
  {
   "cell_type": "code",
   "execution_count": 3,
   "id": "ac4bdbcb",
   "metadata": {},
   "outputs": [],
   "source": [
    "import warnings\n",
    "warnings.filterwarnings('ignore')\n",
    "import pandas as pd"
   ]
  },
  {
   "cell_type": "code",
   "execution_count": 13,
   "id": "156efd49",
   "metadata": {},
   "outputs": [],
   "source": [
    "df_train = pd.read_csv(\"food.csv\")"
   ]
  },
  {
   "cell_type": "code",
   "execution_count": 7,
   "id": "c9a2b553",
   "metadata": {},
   "outputs": [],
   "source": [
    "import warnings\n",
    "warnings.filterwarnings(\"ignore\")"
   ]
  },
  {
   "cell_type": "code",
   "execution_count": 8,
   "id": "170463d1",
   "metadata": {},
   "outputs": [],
   "source": [
    "import os\n",
    "\n",
    "# Disable tokenizers parallelism to avoid the warning\n",
    "os.environ[\"TOKENIZERS_PARALLELISM\"] = \"false\""
   ]
  },
  {
   "cell_type": "code",
   "execution_count": 10,
   "id": "7b111297",
   "metadata": {},
   "outputs": [],
   "source": [
    "!pip install -q -U watermark"
   ]
  },
  {
   "cell_type": "code",
   "execution_count": 9,
   "id": "2f00245a",
   "metadata": {},
   "outputs": [],
   "source": [
    "!pip install -qq transformers"
   ]
  },
  {
   "cell_type": "code",
   "execution_count": 11,
   "id": "f95b6730",
   "metadata": {},
   "outputs": [
    {
     "name": "stdout",
     "output_type": "stream",
     "text": [
      "Python implementation: CPython\n",
      "Python version       : 3.11.3\n",
      "IPython version      : 8.12.0\n",
      "\n",
      "numpy       : 1.24.3\n",
      "pandas      : 1.5.3\n",
      "torch       : 2.0.1+cu117\n",
      "transformers: 4.31.0\n",
      "\n"
     ]
    }
   ],
   "source": [
    "%reload_ext watermark\n",
    "%watermark -v -p numpy,pandas,torch,transformers"
   ]
  },
  {
   "cell_type": "code",
   "execution_count": 12,
   "id": "ac22c148",
   "metadata": {},
   "outputs": [
    {
     "data": {
      "text/plain": [
       "device(type='cuda', index=0)"
      ]
     },
     "execution_count": 12,
     "metadata": {},
     "output_type": "execute_result"
    }
   ],
   "source": [
    "#@title Setup & Config\n",
    "import transformers\n",
    "from transformers import BertModel, BertTokenizer, AdamW, get_linear_schedule_with_warmup\n",
    "import torch\n",
    "from transformers import AutoTokenizer, AutoModel\n",
    "\n",
    "import numpy as np\n",
    "import pandas as pd\n",
    "import seaborn as sns\n",
    "from pylab import rcParams\n",
    "import matplotlib.pyplot as plt\n",
    "from matplotlib import rc\n",
    "from sklearn.model_selection import train_test_split\n",
    "from sklearn.metrics import confusion_matrix, classification_report\n",
    "from collections import defaultdict\n",
    "from textwrap import wrap\n",
    "\n",
    "from torch import nn, optim\n",
    "from torch.utils.data import Dataset, DataLoader\n",
    "import torch.nn.functional as F\n",
    "\n",
    "%matplotlib inline\n",
    "%config InlineBackend.figure_format='retina'\n",
    "\n",
    "sns.set(style='whitegrid', palette='muted', font_scale=1.2)\n",
    "\n",
    "HAPPY_COLORS_PALETTE = [\"#01BEFE\", \"#FFDD00\", \"#FF7D00\", \"#FF006D\", \"#ADFF02\", \"#8F00FF\"]\n",
    "\n",
    "sns.set_palette(sns.color_palette(HAPPY_COLORS_PALETTE))\n",
    "\n",
    "rcParams['figure.figsize'] = 12, 8\n",
    "\n",
    "RANDOM_SEED = 42\n",
    "np.random.seed(RANDOM_SEED)\n",
    "torch.manual_seed(RANDOM_SEED)\n",
    "\n",
    "device = torch.device(\"cuda:0\" if torch.cuda.is_available() else \"cpu\")\n",
    "device"
   ]
  },
  {
   "cell_type": "markdown",
   "id": "6c0297d7",
   "metadata": {},
   "source": [
    "# Data Exploration"
   ]
  },
  {
   "cell_type": "code",
   "execution_count": 14,
   "id": "4593902a",
   "metadata": {},
   "outputs": [
    {
     "data": {
      "text/html": [
       "<div>\n",
       "<style scoped>\n",
       "    .dataframe tbody tr th:only-of-type {\n",
       "        vertical-align: middle;\n",
       "    }\n",
       "\n",
       "    .dataframe tbody tr th {\n",
       "        vertical-align: top;\n",
       "    }\n",
       "\n",
       "    .dataframe thead th {\n",
       "        text-align: right;\n",
       "    }\n",
       "</style>\n",
       "<table border=\"1\" class=\"dataframe\">\n",
       "  <thead>\n",
       "    <tr style=\"text-align: right;\">\n",
       "      <th></th>\n",
       "      <th>Review</th>\n",
       "      <th>Type</th>\n",
       "    </tr>\n",
       "  </thead>\n",
       "  <tbody>\n",
       "    <tr>\n",
       "      <th>0</th>\n",
       "      <td>মা মেয়ের একটি সকাল.আড্ডা আর মজার নাস্তা.আজ আম...</td>\n",
       "      <td>very good</td>\n",
       "    </tr>\n",
       "    <tr>\n",
       "      <th>1</th>\n",
       "      <td>আমি ফুডপান্ডায় অর্ডার দিলাম এবং খাবার দেখে আম...</td>\n",
       "      <td>bad</td>\n",
       "    </tr>\n",
       "    <tr>\n",
       "      <th>2</th>\n",
       "      <td>বৃষ্টির দিনে স্ট্রিটফুড খেতে কার না ভালো লাগে ...</td>\n",
       "      <td>very good</td>\n",
       "    </tr>\n",
       "    <tr>\n",
       "      <th>3</th>\n",
       "      <td>আজকে এই প্রথমবার জিনজিরা ফেরিঘাট থেকে আসার পথে...</td>\n",
       "      <td>very good</td>\n",
       "    </tr>\n",
       "    <tr>\n",
       "      <th>4</th>\n",
       "      <td>পছন্দের রেস্টুরেন্ট এর মধ্যে একটা হলো Chicken...</td>\n",
       "      <td>very good</td>\n",
       "    </tr>\n",
       "    <tr>\n",
       "      <th>5</th>\n",
       "      <td>শহরের সেরা বাফেটের সেরা অফার.মিস করলেই হবে লস্...</td>\n",
       "      <td>very good</td>\n",
       "    </tr>\n",
       "    <tr>\n",
       "      <th>6</th>\n",
       "      <td>যারা Kabab lovers আছে তাদের জন্য Unlimited Kab...</td>\n",
       "      <td>very good</td>\n",
       "    </tr>\n",
       "    <tr>\n",
       "      <th>7</th>\n",
       "      <td>বিদেশী অক্টোপাস ৩০০ ফিট ১০০০/৯০০০৳ হাজার টাকার...</td>\n",
       "      <td>good</td>\n",
       "    </tr>\n",
       "    <tr>\n",
       "      <th>8</th>\n",
       "      <td>ধানমন্ডির মধ্যে সেরা এক নাম্বার বাজে বুফে the ...</td>\n",
       "      <td>bad</td>\n",
       "    </tr>\n",
       "    <tr>\n",
       "      <th>9</th>\n",
       "      <td>মিড রেঞ্জের মধ্যে পয়সাউসুল প্রিমিয়াম একটি ব্যু...</td>\n",
       "      <td>very good</td>\n",
       "    </tr>\n",
       "  </tbody>\n",
       "</table>\n",
       "</div>"
      ],
      "text/plain": [
       "                                              Review       Type\n",
       "0  মা মেয়ের একটি সকাল.আড্ডা আর মজার নাস্তা.আজ আম...  very good\n",
       "1  আমি ফুডপান্ডায় অর্ডার দিলাম এবং খাবার দেখে আম...        bad\n",
       "2  বৃষ্টির দিনে স্ট্রিটফুড খেতে কার না ভালো লাগে ...  very good\n",
       "3  আজকে এই প্রথমবার জিনজিরা ফেরিঘাট থেকে আসার পথে...  very good\n",
       "4   পছন্দের রেস্টুরেন্ট এর মধ্যে একটা হলো Chicken...  very good\n",
       "5  শহরের সেরা বাফেটের সেরা অফার.মিস করলেই হবে লস্...  very good\n",
       "6  যারা Kabab lovers আছে তাদের জন্য Unlimited Kab...  very good\n",
       "7  বিদেশী অক্টোপাস ৩০০ ফিট ১০০০/৯০০০৳ হাজার টাকার...       good\n",
       "8  ধানমন্ডির মধ্যে সেরা এক নাম্বার বাজে বুফে the ...        bad\n",
       "9  মিড রেঞ্জের মধ্যে পয়সাউসুল প্রিমিয়াম একটি ব্যু...  very good"
      ]
     },
     "execution_count": 14,
     "metadata": {},
     "output_type": "execute_result"
    }
   ],
   "source": [
    "df_train.head(10)"
   ]
  },
  {
   "cell_type": "markdown",
   "id": "3285faef",
   "metadata": {},
   "source": [
    "# Label 0, 1 or 2 . '0' for neutral, '1' for positive and '2' for negative"
   ]
  },
  {
   "cell_type": "code",
   "execution_count": 15,
   "id": "69b94897",
   "metadata": {},
   "outputs": [],
   "source": [
    "mapping = {'bad': 0, 'good': 1, 'very good': 2}"
   ]
  },
  {
   "cell_type": "code",
   "execution_count": 16,
   "id": "ee4721f3",
   "metadata": {},
   "outputs": [],
   "source": [
    "mapping = {'bad': 0, 'good': 1, 'very good': 2}\n",
    "df_train['Type'] = df_train['Type'].map(mapping)\n",
    "df_train"
   ]
  },
  {
   "cell_type": "code",
   "execution_count": 18,
   "id": "e9a84a42",
   "metadata": {},
   "outputs": [
    {
     "data": {
      "text/html": [
       "<div>\n",
       "<style scoped>\n",
       "    .dataframe tbody tr th:only-of-type {\n",
       "        vertical-align: middle;\n",
       "    }\n",
       "\n",
       "    .dataframe tbody tr th {\n",
       "        vertical-align: top;\n",
       "    }\n",
       "\n",
       "    .dataframe thead th {\n",
       "        text-align: right;\n",
       "    }\n",
       "</style>\n",
       "<table border=\"1\" class=\"dataframe\">\n",
       "  <thead>\n",
       "    <tr style=\"text-align: right;\">\n",
       "      <th></th>\n",
       "      <th>Review</th>\n",
       "      <th>Type</th>\n",
       "    </tr>\n",
       "  </thead>\n",
       "  <tbody>\n",
       "    <tr>\n",
       "      <th>0</th>\n",
       "      <td>মা মেয়ের একটি সকাল.আড্ডা আর মজার নাস্তা.আজ আম...</td>\n",
       "      <td>2</td>\n",
       "    </tr>\n",
       "    <tr>\n",
       "      <th>1</th>\n",
       "      <td>আমি ফুডপান্ডায় অর্ডার দিলাম এবং খাবার দেখে আম...</td>\n",
       "      <td>0</td>\n",
       "    </tr>\n",
       "    <tr>\n",
       "      <th>2</th>\n",
       "      <td>বৃষ্টির দিনে স্ট্রিটফুড খেতে কার না ভালো লাগে ...</td>\n",
       "      <td>2</td>\n",
       "    </tr>\n",
       "    <tr>\n",
       "      <th>3</th>\n",
       "      <td>আজকে এই প্রথমবার জিনজিরা ফেরিঘাট থেকে আসার পথে...</td>\n",
       "      <td>2</td>\n",
       "    </tr>\n",
       "    <tr>\n",
       "      <th>4</th>\n",
       "      <td>পছন্দের রেস্টুরেন্ট এর মধ্যে একটা হলো Chicken...</td>\n",
       "      <td>2</td>\n",
       "    </tr>\n",
       "    <tr>\n",
       "      <th>...</th>\n",
       "      <td>...</td>\n",
       "      <td>...</td>\n",
       "    </tr>\n",
       "    <tr>\n",
       "      <th>109</th>\n",
       "      <td>মেইন কোর্সে ছিলো খিচুড়ি, খাসির বিরিয়ানি, বীফ র...</td>\n",
       "      <td>1</td>\n",
       "    </tr>\n",
       "    <tr>\n",
       "      <th>110</th>\n",
       "      <td>বেশ অনেকদিন থেকেই যাওয়ার ইচ্ছা ছিলো। এট লাস্ট ...</td>\n",
       "      <td>1</td>\n",
       "    </tr>\n",
       "    <tr>\n",
       "      <th>111</th>\n",
       "      <td>রিফিলের অবস্থা খুবই বাজে।ব্যুফের সময় ১:০০ টা ব...</td>\n",
       "      <td>0</td>\n",
       "    </tr>\n",
       "    <tr>\n",
       "      <th>112</th>\n",
       "      <td>The Pan Pacific Lounge এ গতকাল একটি নেগেটিভ রি...</td>\n",
       "      <td>0</td>\n",
       "    </tr>\n",
       "    <tr>\n",
       "      <th>113</th>\n",
       "      <td>এই গ্রুপেই একটা রিভিউ দেখে আজকে বুফে খেতে গেলা...</td>\n",
       "      <td>2</td>\n",
       "    </tr>\n",
       "  </tbody>\n",
       "</table>\n",
       "<p>114 rows × 2 columns</p>\n",
       "</div>"
      ],
      "text/plain": [
       "                                                Review  Type\n",
       "0    মা মেয়ের একটি সকাল.আড্ডা আর মজার নাস্তা.আজ আম...     2\n",
       "1    আমি ফুডপান্ডায় অর্ডার দিলাম এবং খাবার দেখে আম...     0\n",
       "2    বৃষ্টির দিনে স্ট্রিটফুড খেতে কার না ভালো লাগে ...     2\n",
       "3    আজকে এই প্রথমবার জিনজিরা ফেরিঘাট থেকে আসার পথে...     2\n",
       "4     পছন্দের রেস্টুরেন্ট এর মধ্যে একটা হলো Chicken...     2\n",
       "..                                                 ...   ...\n",
       "109  মেইন কোর্সে ছিলো খিচুড়ি, খাসির বিরিয়ানি, বীফ র...     1\n",
       "110  বেশ অনেকদিন থেকেই যাওয়ার ইচ্ছা ছিলো। এট লাস্ট ...     1\n",
       "111  রিফিলের অবস্থা খুবই বাজে।ব্যুফের সময় ১:০০ টা ব...     0\n",
       "112  The Pan Pacific Lounge এ গতকাল একটি নেগেটিভ রি...     0\n",
       "113  এই গ্রুপেই একটা রিভিউ দেখে আজকে বুফে খেতে গেলা...     2\n",
       "\n",
       "[114 rows x 2 columns]"
      ]
     },
     "execution_count": 18,
     "metadata": {},
     "output_type": "execute_result"
    }
   ],
   "source": [
    "df_train"
   ]
  },
  {
   "cell_type": "code",
   "execution_count": 19,
   "id": "48e2038c",
   "metadata": {},
   "outputs": [
    {
     "data": {
      "text/plain": [
       "(114, 2)"
      ]
     },
     "execution_count": 19,
     "metadata": {},
     "output_type": "execute_result"
    }
   ],
   "source": [
    "df_train.shape"
   ]
  },
  {
   "cell_type": "code",
   "execution_count": 20,
   "id": "3cf4eecf",
   "metadata": {},
   "outputs": [
    {
     "data": {
      "text/html": [
       "<div>\n",
       "<style scoped>\n",
       "    .dataframe tbody tr th:only-of-type {\n",
       "        vertical-align: middle;\n",
       "    }\n",
       "\n",
       "    .dataframe tbody tr th {\n",
       "        vertical-align: top;\n",
       "    }\n",
       "\n",
       "    .dataframe thead th {\n",
       "        text-align: right;\n",
       "    }\n",
       "</style>\n",
       "<table border=\"1\" class=\"dataframe\">\n",
       "  <thead>\n",
       "    <tr style=\"text-align: right;\">\n",
       "      <th></th>\n",
       "      <th>Review</th>\n",
       "      <th>Type</th>\n",
       "    </tr>\n",
       "  </thead>\n",
       "  <tbody>\n",
       "    <tr>\n",
       "      <th>0</th>\n",
       "      <td>মা মেয়ের একটি সকাল.আড্ডা আর মজার নাস্তা.আজ আম...</td>\n",
       "      <td>2</td>\n",
       "    </tr>\n",
       "    <tr>\n",
       "      <th>1</th>\n",
       "      <td>আমি ফুডপান্ডায় অর্ডার দিলাম এবং খাবার দেখে আম...</td>\n",
       "      <td>0</td>\n",
       "    </tr>\n",
       "    <tr>\n",
       "      <th>2</th>\n",
       "      <td>বৃষ্টির দিনে স্ট্রিটফুড খেতে কার না ভালো লাগে ...</td>\n",
       "      <td>2</td>\n",
       "    </tr>\n",
       "    <tr>\n",
       "      <th>3</th>\n",
       "      <td>আজকে এই প্রথমবার জিনজিরা ফেরিঘাট থেকে আসার পথে...</td>\n",
       "      <td>2</td>\n",
       "    </tr>\n",
       "    <tr>\n",
       "      <th>4</th>\n",
       "      <td>পছন্দের রেস্টুরেন্ট এর মধ্যে একটা হলো Chicken...</td>\n",
       "      <td>2</td>\n",
       "    </tr>\n",
       "    <tr>\n",
       "      <th>...</th>\n",
       "      <td>...</td>\n",
       "      <td>...</td>\n",
       "    </tr>\n",
       "    <tr>\n",
       "      <th>109</th>\n",
       "      <td>মেইন কোর্সে ছিলো খিচুড়ি, খাসির বিরিয়ানি, বীফ র...</td>\n",
       "      <td>1</td>\n",
       "    </tr>\n",
       "    <tr>\n",
       "      <th>110</th>\n",
       "      <td>বেশ অনেকদিন থেকেই যাওয়ার ইচ্ছা ছিলো। এট লাস্ট ...</td>\n",
       "      <td>1</td>\n",
       "    </tr>\n",
       "    <tr>\n",
       "      <th>111</th>\n",
       "      <td>রিফিলের অবস্থা খুবই বাজে।ব্যুফের সময় ১:০০ টা ব...</td>\n",
       "      <td>0</td>\n",
       "    </tr>\n",
       "    <tr>\n",
       "      <th>112</th>\n",
       "      <td>The Pan Pacific Lounge এ গতকাল একটি নেগেটিভ রি...</td>\n",
       "      <td>0</td>\n",
       "    </tr>\n",
       "    <tr>\n",
       "      <th>113</th>\n",
       "      <td>এই গ্রুপেই একটা রিভিউ দেখে আজকে বুফে খেতে গেলা...</td>\n",
       "      <td>2</td>\n",
       "    </tr>\n",
       "  </tbody>\n",
       "</table>\n",
       "<p>114 rows × 2 columns</p>\n",
       "</div>"
      ],
      "text/plain": [
       "                                                Review  Type\n",
       "0    মা মেয়ের একটি সকাল.আড্ডা আর মজার নাস্তা.আজ আম...     2\n",
       "1    আমি ফুডপান্ডায় অর্ডার দিলাম এবং খাবার দেখে আম...     0\n",
       "2    বৃষ্টির দিনে স্ট্রিটফুড খেতে কার না ভালো লাগে ...     2\n",
       "3    আজকে এই প্রথমবার জিনজিরা ফেরিঘাট থেকে আসার পথে...     2\n",
       "4     পছন্দের রেস্টুরেন্ট এর মধ্যে একটা হলো Chicken...     2\n",
       "..                                                 ...   ...\n",
       "109  মেইন কোর্সে ছিলো খিচুড়ি, খাসির বিরিয়ানি, বীফ র...     1\n",
       "110  বেশ অনেকদিন থেকেই যাওয়ার ইচ্ছা ছিলো। এট লাস্ট ...     1\n",
       "111  রিফিলের অবস্থা খুবই বাজে।ব্যুফের সময় ১:০০ টা ব...     0\n",
       "112  The Pan Pacific Lounge এ গতকাল একটি নেগেটিভ রি...     0\n",
       "113  এই গ্রুপেই একটা রিভিউ দেখে আজকে বুফে খেতে গেলা...     2\n",
       "\n",
       "[114 rows x 2 columns]"
      ]
     },
     "execution_count": 20,
     "metadata": {},
     "output_type": "execute_result"
    }
   ],
   "source": [
    "df_train[:]"
   ]
  },
  {
   "cell_type": "code",
   "execution_count": 22,
   "id": "8a2c66ab",
   "metadata": {},
   "outputs": [
    {
     "data": {
      "text/plain": [
       "2    59\n",
       "1    39\n",
       "0    16\n",
       "Name: Type, dtype: int64"
      ]
     },
     "execution_count": 22,
     "metadata": {},
     "output_type": "execute_result"
    }
   ],
   "source": [
    "df_train['Type'].value_counts()"
   ]
  },
  {
   "cell_type": "code",
   "execution_count": 23,
   "id": "5798941b",
   "metadata": {},
   "outputs": [
    {
     "name": "stdout",
     "output_type": "stream",
     "text": [
      "<class 'pandas.core.frame.DataFrame'>\n",
      "RangeIndex: 114 entries, 0 to 113\n",
      "Data columns (total 2 columns):\n",
      " #   Column  Non-Null Count  Dtype \n",
      "---  ------  --------------  ----- \n",
      " 0   Review  114 non-null    object\n",
      " 1   Type    114 non-null    int64 \n",
      "dtypes: int64(1), object(1)\n",
      "memory usage: 1.9+ KB\n"
     ]
    }
   ],
   "source": [
    "df_train.info()"
   ]
  },
  {
   "cell_type": "code",
   "execution_count": 24,
   "id": "f120010b",
   "metadata": {},
   "outputs": [],
   "source": [
    "class_names = ['bad', 'good','very good']"
   ]
  },
  {
   "cell_type": "code",
   "execution_count": 25,
   "id": "28f15b1f",
   "metadata": {},
   "outputs": [
    {
     "data": {
      "image/png": "[encoded data removed]",
      "text/plain": [
       "<Figure size 1000x600 with 1 Axes>"
      ]
     },
     "metadata": {
      "image/png": {
       "height": 535,
       "width": 852
      }
     },
     "output_type": "display_data"
    }
   ],
   "source": [
    "import seaborn as sns\n",
    "import matplotlib.pyplot as plt\n",
    "\n",
    "# Increase the figure size\n",
    "plt.figure(figsize=(10, 6))\n",
    "\n",
    "Toxic_count = df_train['Type'].value_counts()\n",
    "#sns.countplot(x='Score', data=df, order=Toxic_count.index)\n",
    "#sns.countplot(x='Score', data=df, order=Toxic_count.index, color='blue')\n",
    "sns.countplot(x='Type', data=df_train, palette=['#FF2400', 'teal','#A52A2A','Seagreen'])\n",
    "# Rename the x-axis tick labels\n",
    "new_labels = class_names# Replace with your desired labels\n",
    "plt.gca().set_xticklabels(new_labels)\n",
    "\n",
    "plt.show()"
   ]
  },
  {
   "cell_type": "code",
   "execution_count": 26,
   "id": "d3a975e1",
   "metadata": {},
   "outputs": [],
   "source": [
    "from transformers import AutoTokenizer, AutoModel\n",
    "from transformers import BertForMaskedLM, BertTokenizer, pipeline\n",
    "from transformers import AutoModelForSeq2SeqLM, AutoTokenizer"
   ]
  },
  {
   "cell_type": "code",
   "execution_count": 27,
   "id": "8b8074d0",
   "metadata": {},
   "outputs": [],
   "source": [
    "PRE_TRAINED_MODEL_NAME = 'csebuetnlp/banglabert'"
   ]
  },
  {
   "cell_type": "code",
   "execution_count": 28,
   "id": "d1374eee",
   "metadata": {},
   "outputs": [
    {
     "data": {
      "application/vnd.jupyter.widget-view+json": {
       "model_id": "71a5ee53ec9843f6a96f0e2888df0209",
       "version_major": 2,
       "version_minor": 0
      },
      "text/plain": [
       "Downloading tokenizer_config.json:   0%|          | 0.00/119 [00:00<?, ?B/s]"
      ]
     },
     "metadata": {},
     "output_type": "display_data"
    },
    {
     "data": {
      "application/vnd.jupyter.widget-view+json": {
       "model_id": "e552201cceeb494ca0ce35e7a600cf44",
       "version_major": 2,
       "version_minor": 0
      },
      "text/plain": [
       "Downloading config.json:   0%|          | 0.00/586 [00:00<?, ?B/s]"
      ]
     },
     "metadata": {},
     "output_type": "display_data"
    },
    {
     "data": {
      "application/vnd.jupyter.widget-view+json": {
       "model_id": "fc0a7ea481014b90b0c40969ec0936cd",
       "version_major": 2,
       "version_minor": 0
      },
      "text/plain": [
       "Downloading vocab.txt:   0%|          | 0.00/528k [00:00<?, ?B/s]"
      ]
     },
     "metadata": {},
     "output_type": "display_data"
    },
    {
     "data": {
      "application/vnd.jupyter.widget-view+json": {
       "model_id": "4809caf73a7346f5b02ab983db8a00d5",
       "version_major": 2,
       "version_minor": 0
      },
      "text/plain": [
       "Downloading (…)cial_tokens_map.json:   0%|          | 0.00/112 [00:00<?, ?B/s]"
      ]
     },
     "metadata": {},
     "output_type": "display_data"
    }
   ],
   "source": [
    "tokenizer = AutoTokenizer.from_pretrained(\"csebuetnlp/banglabert\")"
   ]
  },
  {
   "cell_type": "code",
   "execution_count": 29,
   "id": "7f75b14b",
   "metadata": {},
   "outputs": [
    {
     "name": "stdout",
     "output_type": "stream",
     "text": [
      "Collecting git+https://github.com/csebuetnlp/normalizer\n",
      "  Cloning https://github.com/csebuetnlp/normalizer to c:\\users\\pirat\\appdata\\local\\temp\\pip-req-build-r2rt8kcq\n",
      "  Resolved https://github.com/csebuetnlp/normalizer to commit d405944dde5ceeacb7c2fd3245ae2a9dea5f35c9\n",
      "  Preparing metadata (setup.py): started\n",
      "  Preparing metadata (setup.py): finished with status 'done'\n",
      "Requirement already satisfied: regex in c:\\users\\pirat\\anaconda3\\lib\\site-packages (from normalizer==0.0.1) (2022.7.9)\n",
      "Collecting emoji==1.4.2 (from normalizer==0.0.1)\n",
      "  Downloading emoji-1.4.2.tar.gz (184 kB)\n",
      "                                              0.0/185.0 kB ? eta -:--:--\n",
      "     ------                                  30.7/185.0 kB 1.3 MB/s eta 0:00:01\n",
      "     ------------                          61.4/185.0 kB 656.4 kB/s eta 0:00:01\n",
      "     ---------------------                112.6/185.0 kB 930.9 kB/s eta 0:00:01\n",
      "     -----------------------------------    174.1/185.0 kB 1.1 MB/s eta 0:00:01\n",
      "     -------------------------------------- 185.0/185.0 kB 1.0 MB/s eta 0:00:00\n",
      "  Preparing metadata (setup.py): started\n",
      "  Preparing metadata (setup.py): finished with status 'done'\n",
      "Collecting ftfy==6.0.3 (from normalizer==0.0.1)\n",
      "  Downloading ftfy-6.0.3.tar.gz (64 kB)\n",
      "                                              0.0/64.2 kB ? eta -:--:--\n",
      "     ---------------------------------------- 64.2/64.2 kB 3.4 MB/s eta 0:00:00\n",
      "  Preparing metadata (setup.py): started\n",
      "  Preparing metadata (setup.py): finished with status 'done'\n",
      "Requirement already satisfied: wcwidth in c:\\users\\pirat\\anaconda3\\lib\\site-packages (from ftfy==6.0.3->normalizer==0.0.1) (0.2.5)\n",
      "Building wheels for collected packages: normalizer, emoji, ftfy\n",
      "  Building wheel for normalizer (setup.py): started\n",
      "  Building wheel for normalizer (setup.py): finished with status 'done'\n",
      "  Created wheel for normalizer: filename=normalizer-0.0.1-py3-none-any.whl size=6953 sha256=c3dda96b554b9ca825b2489da401f740d1796b76a35082d62422ebf8c68c9044\n",
      "  Stored in directory: C:\\Users\\pirat\\AppData\\Local\\Temp\\pip-ephem-wheel-cache-9od_ve7j\\wheels\\9a\\af\\fc\\4c056274507dc80328a36c6ee1b71d78d6473edb0c1f5edc3e\n",
      "  Building wheel for emoji (setup.py): started\n",
      "  Building wheel for emoji (setup.py): finished with status 'done'\n",
      "  Created wheel for emoji: filename=emoji-1.4.2-py3-none-any.whl size=186484 sha256=050f1a374592f0de196c0eaa6ce282342b4c210c547184a3aede2786d0fffeb9\n",
      "  Stored in directory: c:\\users\\pirat\\appdata\\local\\pip\\cache\\wheels\\94\\08\\b4\\78657b1541bb704b088317b52429ee4016d9888fe47dbb130f\n",
      "  Building wheel for ftfy (setup.py): started\n",
      "  Building wheel for ftfy (setup.py): finished with status 'done'\n",
      "  Created wheel for ftfy: filename=ftfy-6.0.3-py3-none-any.whl size=41955 sha256=0ae8be66bcf70fdd1464fe0e6584a09695a34519315ee0632d3d1201df3a9507\n",
      "  Stored in directory: c:\\users\\pirat\\appdata\\local\\pip\\cache\\wheels\\69\\c5\\02\\f19deeac47b79fd0d2f85a2668d84a46a5811ded119451463e\n",
      "Successfully built normalizer emoji ftfy\n",
      "Installing collected packages: emoji, ftfy, normalizer\n",
      "  Attempting uninstall: emoji\n",
      "    Found existing installation: emoji 2.8.0\n",
      "    Uninstalling emoji-2.8.0:\n",
      "      Successfully uninstalled emoji-2.8.0\n",
      "Successfully installed emoji-1.4.2 ftfy-6.0.3 normalizer-0.0.1\n",
      "Note: you may need to restart the kernel to use updated packages.\n"
     ]
    },
    {
     "name": "stderr",
     "output_type": "stream",
     "text": [
      "  Running command git clone --filter=blob:none --quiet https://github.com/csebuetnlp/normalizer 'C:\\Users\\pirat\\AppData\\Local\\Temp\\pip-req-build-r2rt8kcq'\n"
     ]
    }
   ],
   "source": [
    "pip install git+https://github.com/csebuetnlp/normalizer"
   ]
  },
  {
   "cell_type": "code",
   "execution_count": 30,
   "id": "f1a76f8f",
   "metadata": {},
   "outputs": [],
   "source": [
    "from transformers import AutoModelForPreTraining, AutoTokenizer\n",
    "from normalizer import normalize # pip install git+https://github.com/csebuetnlp/normalizer\n",
    "import torch"
   ]
  },
  {
   "cell_type": "code",
   "execution_count": 31,
   "id": "7df5b2fb",
   "metadata": {},
   "outputs": [],
   "source": [
    "sample_txt= \"আমি কৃতজ্ঞ কারণ আপনি আমার জন্য অনেক কিছু করেছেন।\""
   ]
  },
  {
   "cell_type": "code",
   "execution_count": 32,
   "id": "08b634c9",
   "metadata": {},
   "outputs": [
    {
     "data": {
      "text/plain": [
       "dict_keys(['input_ids', 'attention_mask'])"
      ]
     },
     "execution_count": 32,
     "metadata": {},
     "output_type": "execute_result"
    }
   ],
   "source": [
    "encoding = tokenizer.encode_plus(\n",
    "  sample_txt,\n",
    "  max_length=32,\n",
    "  add_special_tokens=True, # Add '[CLS]' and '[SEP]'\n",
    "  return_token_type_ids=False,\n",
    "  pad_to_max_length=True,\n",
    "  return_attention_mask=True,\n",
    "  truncation=True,\n",
    "  return_tensors='pt',  # Return PyTorch tensors\n",
    "\n",
    ")\n",
    "\n",
    "encoding.keys()"
   ]
  },
  {
   "cell_type": "markdown",
   "id": "4686465c",
   "metadata": {},
   "source": [
    "# Choosing Sequence Length"
   ]
  },
  {
   "cell_type": "code",
   "execution_count": 34,
   "id": "b453e8ab",
   "metadata": {},
   "outputs": [
    {
     "name": "stderr",
     "output_type": "stream",
     "text": [
      "Truncation was not explicitly activated but `max_length` is provided a specific value, please use `truncation=True` to explicitly truncate examples to max length. Defaulting to 'longest_first' truncation strategy. If you encode pairs of sequences (GLUE-style) with the tokenizer you can select this strategy more precisely by providing a specific strategy to `truncation`.\n"
     ]
    }
   ],
   "source": [
    "token_lens = []\n",
    "\n",
    "for txt in df_train.Review:\n",
    "  txt = normalize(txt) # this normalization step is required before tokenizing the text\n",
    "  tokens = tokenizer.encode(txt, max_length=512)\n",
    "  token_lens.append(len(tokens))"
   ]
  },
  {
   "cell_type": "code",
   "execution_count": 35,
   "id": "e60802b4",
   "metadata": {},
   "outputs": [
    {
     "data": {
      "image/png": "[encoded data removed]",
      "text/plain": [
       "<Figure size 1200x800 with 1 Axes>"
      ]
     },
     "metadata": {
      "image/png": {
       "height": 689,
       "width": 1032
      }
     },
     "output_type": "display_data"
    }
   ],
   "source": [
    "sns.distplot(token_lens)\n",
    "plt.xlim([0, 256]);\n",
    "plt.xlabel('Token count');"
   ]
  },
  {
   "cell_type": "code",
   "execution_count": 36,
   "id": "7018bf27",
   "metadata": {},
   "outputs": [],
   "source": [
    "MAX_LEN = 256"
   ]
  },
  {
   "cell_type": "code",
   "execution_count": 43,
   "id": "a590c929",
   "metadata": {},
   "outputs": [],
   "source": [
    "class GPReviewDataset(Dataset):\n",
    "\n",
    "  def __init__(self, comments, targets, tokenizer, max_len):\n",
    "    self.comments = comments\n",
    "    self.targets = targets\n",
    "    self.tokenizer = tokenizer\n",
    "    self.max_len = max_len\n",
    "\n",
    "  def __len__(self):\n",
    "    return len(self.comments)\n",
    "  def __getitem__(self, item):\n",
    "    review = str(self.comments[item])\n",
    "    target = self.targets[item]\n",
    "\n",
    "    encoding = self.tokenizer.encode_plus(\n",
    "      review,\n",
    "      add_special_tokens=True,\n",
    "      max_length=self.max_len,\n",
    "      return_token_type_ids=False,\n",
    "      pad_to_max_length=True,\n",
    "      return_attention_mask=True,\n",
    "      return_tensors='pt',\n",
    "    )\n",
    "\n",
    "    return {\n",
    "      'Review': review,\n",
    "      'input_ids': encoding['input_ids'].flatten(),\n",
    "      'attention_mask': encoding['attention_mask'].flatten(),\n",
    "      'targets': torch.tensor(target, dtype=torch.long)\n",
    "    }"
   ]
  },
  {
   "cell_type": "code",
   "execution_count": 44,
   "id": "bd66cdeb",
   "metadata": {},
   "outputs": [
    {
     "data": {
      "text/plain": [
       "(114, 2)"
      ]
     },
     "execution_count": 44,
     "metadata": {},
     "output_type": "execute_result"
    }
   ],
   "source": [
    "df_train.shape"
   ]
  },
  {
   "cell_type": "code",
   "execution_count": 49,
   "id": "04c90aba",
   "metadata": {},
   "outputs": [],
   "source": [
    "def create_data_loader(df, tokenizer, max_len, batch_size):\n",
    "  ds = GPReviewDataset(\n",
    "    comments=df.Review.to_numpy(),\n",
    "    targets=df.Type.to_numpy(),\n",
    "    tokenizer=tokenizer,\n",
    "    max_len=max_len,\n",
    "\n",
    "  )\n",
    "\n",
    "  return DataLoader(\n",
    "    ds,\n",
    "    batch_size=batch_size,\n",
    "    num_workers=4,\n",
    "    shuffle=True\n",
    "  )"
   ]
  },
  {
   "cell_type": "code",
   "execution_count": 50,
   "id": "f9a755b9",
   "metadata": {},
   "outputs": [],
   "source": [
    "BATCH_SIZE = 64\n",
    "\n",
    "train_data_loader = create_data_loader(df_train, tokenizer, MAX_LEN, BATCH_SIZE)"
   ]
  },
  {
   "cell_type": "code",
   "execution_count": null,
   "id": "bb4d3a7b",
   "metadata": {},
   "outputs": [],
   "source": [
    "data = next(iter(train_data_loader))\n",
    "data.keys()"
   ]
  },
  {
   "cell_type": "code",
   "execution_count": null,
   "id": "20ad0bb7",
   "metadata": {},
   "outputs": [],
   "source": [
    "print(data['input_ids'].shape)\n",
    "print(data['attention_mask'].shape)\n",
    "print(data['targets'].shape)"
   ]
  },
  {
   "cell_type": "code",
   "execution_count": null,
   "id": "3cc9114b",
   "metadata": {},
   "outputs": [],
   "source": [
    "bert_model = AutoModelForPreTraining.from_pretrained(PRE_TRAINED_MODEL_NAME)"
   ]
  },
  {
   "cell_type": "code",
   "execution_count": null,
   "id": "4fe1fa54",
   "metadata": {},
   "outputs": [],
   "source": [
    "!export LRU_CACHE_CAPACITY=1\n",
    "!export 'PYTORCH_CUDA_ALLOC_CONF=max_split_size_mb:512'"
   ]
  },
  {
   "cell_type": "code",
   "execution_count": null,
   "id": "99c6d5e7",
   "metadata": {},
   "outputs": [],
   "source": []
  },
  {
   "cell_type": "code",
   "execution_count": null,
   "id": "3cd1b468",
   "metadata": {},
   "outputs": [],
   "source": []
  },
  {
   "cell_type": "code",
   "execution_count": null,
   "id": "023b6693",
   "metadata": {},
   "outputs": [],
   "source": []
  },
  {
   "cell_type": "code",
   "execution_count": null,
   "id": "c07d6313",
   "metadata": {},
   "outputs": [],
   "source": []
  },
  {
   "cell_type": "code",
   "execution_count": null,
   "id": "c8489701",
   "metadata": {},
   "outputs": [],
   "source": []
  },
  {
   "cell_type": "code",
   "execution_count": null,
   "id": "73c0b958",
   "metadata": {},
   "outputs": [],
   "source": []
  }
 ],
 "metadata": {
  "kernelspec": {
   "display_name": "Python 3 (ipykernel)",
   "language": "python",
   "name": "python3"
  },
  "language_info": {
   "codemirror_mode": {
    "name": "ipython",
    "version": 3
   },
   "file_extension": ".py",
   "mimetype": "text/x-python",
   "name": "python",
   "nbconvert_exporter": "python",
   "pygments_lexer": "ipython3",
   "version": "3.11.3"
  }
 },
 "nbformat": 4,
 "nbformat_minor": 5
}
